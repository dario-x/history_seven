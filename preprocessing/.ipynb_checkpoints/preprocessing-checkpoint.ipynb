{
 "cells": [
  {
   "cell_type": "markdown",
   "metadata": {
    "cell_id": "7b5ca5454cc842e69de9c5457d41f7ce",
    "deepnote_cell_type": "markdown",
    "tags": []
   },
   "source": [
    "# Telling the History of a District with Open Data"
   ]
  },
  {
   "cell_type": "markdown",
   "metadata": {
    "cell_id": "b42573f1471f4b17b2116220e716f1e6",
    "deepnote_cell_type": "markdown",
    "tags": []
   },
   "source": [
    "![title](./data/pexels-tima-miroshnichenko-7033891-20220313-154950.jpg)"
   ]
  },
  {
   "cell_type": "markdown",
   "metadata": {},
   "source": [
    "**Data** taken from: \n",
    "\n",
    "* Main Dataset - containing all the informations about the buildings:\n",
    "\n",
    "https://www.data.gv.at/katalog/dataset/wien-geschichte-wiki/resource/a230cfe8-95d9-474a-9436-fe6659a4e40d\n",
    "\n",
    "* Boundaries of the 7th district:\n",
    "\n",
    "https://www.data.gv.at/katalog/dataset/stadt-wien_bezirksgrenzenwien"
   ]
  },
  {
   "cell_type": "markdown",
   "metadata": {
    "cell_id": "642483bcebf4403bb5e8e813c779da97",
    "deepnote_cell_type": "markdown",
    "tags": []
   },
   "source": [
    "## Step 0: Load Libraries & Data"
   ]
  },
  {
   "cell_type": "markdown",
   "metadata": {},
   "source": [
    "in the following code chunks we are:\n",
    "\n",
    "* loading the necessary libraries and the dataset\n",
    "* looking at some sample rows"
   ]
  },
  {
   "cell_type": "code",
   "execution_count": 1,
   "metadata": {
    "cell_id": "0b28ab7a2b4f4cbf9b6d16e716d6e558",
    "deepnote_cell_type": "code",
    "deepnote_to_be_reexecuted": false,
    "execution_millis": 3168,
    "execution_start": 1650401519740,
    "source_hash": "1fd27274",
    "tags": []
   },
   "outputs": [],
   "source": [
    "#standard libraries\n",
    "import os\n",
    "import pandas as pd\n",
    "import numpy as np\n",
    "import regex as re\n",
    "\n",
    "#for visuals\n",
    "import matplotlib.pyplot as plt\n",
    "\n",
    "#for webscraping\n",
    "from urllib.request import urlopen"
   ]
  },
  {
   "cell_type": "code",
   "execution_count": 140,
   "metadata": {
    "cell_id": "592511626e854327ab5eed07e3f5c741",
    "deepnote_cell_type": "code",
    "deepnote_to_be_reexecuted": false,
    "execution_millis": 336,
    "execution_start": 1650390594356,
    "source_hash": "b9c017cf",
    "tags": []
   },
   "outputs": [],
   "source": [
    "df = pd.read_csv('../data/KULTURWIKIOGD.csv')"
   ]
  },
  {
   "cell_type": "code",
   "execution_count": 141,
   "metadata": {
    "cell_id": "17b7043f19004d8a86b2d29d88293ac9",
    "deepnote_cell_type": "code",
    "deepnote_to_be_reexecuted": false,
    "execution_millis": 312,
    "execution_start": 1650390594711,
    "source_hash": "6cd8acfd",
    "tags": []
   },
   "outputs": [
    {
     "data": {
      "text/html": [
       "<div>\n",
       "<style scoped>\n",
       "    .dataframe tbody tr th:only-of-type {\n",
       "        vertical-align: middle;\n",
       "    }\n",
       "\n",
       "    .dataframe tbody tr th {\n",
       "        vertical-align: top;\n",
       "    }\n",
       "\n",
       "    .dataframe thead th {\n",
       "        text-align: right;\n",
       "    }\n",
       "</style>\n",
       "<table border=\"1\" class=\"dataframe\">\n",
       "  <thead>\n",
       "    <tr style=\"text-align: right;\">\n",
       "      <th></th>\n",
       "      <th>FID</th>\n",
       "      <th>OBJECTID</th>\n",
       "      <th>SHAPE</th>\n",
       "      <th>ADRESSE</th>\n",
       "      <th>ANDERE_BEZEICHNUNG</th>\n",
       "      <th>ART_DER_ORGANISATION</th>\n",
       "      <th>ART_DES_BAUWERKS</th>\n",
       "      <th>ART_DES_EREIGNISSES</th>\n",
       "      <th>ART_DES_OBJEKTS</th>\n",
       "      <th>BENANNT_NACH</th>\n",
       "      <th>...</th>\n",
       "      <th>KATEGORIE_TXT</th>\n",
       "      <th>LAGE</th>\n",
       "      <th>NAME_SEIT</th>\n",
       "      <th>PAGEID</th>\n",
       "      <th>PROMINENTE_BEWOHNER</th>\n",
       "      <th>PROMINENTE_PERSONEN</th>\n",
       "      <th>SEITENNAME</th>\n",
       "      <th>STADTPLAN</th>\n",
       "      <th>WEBLINK1</th>\n",
       "      <th>SE_ANNO_CAD_DATA</th>\n",
       "    </tr>\n",
       "  </thead>\n",
       "  <tbody>\n",
       "    <tr>\n",
       "      <th>0</th>\n",
       "      <td>KULTURWIKIOGD.fid-52c6621a_186c0bfb22a_-7e62</td>\n",
       "      <td>294006</td>\n",
       "      <td>POINT (16.244504291918773 48.207665864191334)</td>\n",
       "      <td>14., Mondweg 91</td>\n",
       "      <td>NaN</td>\n",
       "      <td>NaN</td>\n",
       "      <td>NaN</td>\n",
       "      <td>NaN</td>\n",
       "      <td>Grünfläche</td>\n",
       "      <td>Franz Sauer</td>\n",
       "      <td>...</td>\n",
       "      <td>topografische_objekte</td>\n",
       "      <td>Wolfersberg</td>\n",
       "      <td>NaN</td>\n",
       "      <td>24895</td>\n",
       "      <td>NaN</td>\n",
       "      <td>NaN</td>\n",
       "      <td>Franz-Sauer-Park</td>\n",
       "      <td>1</td>\n",
       "      <td>https://www.geschichtewiki.wien.gv.at/?curid=2...</td>\n",
       "      <td>NaN</td>\n",
       "    </tr>\n",
       "    <tr>\n",
       "      <th>1</th>\n",
       "      <td>KULTURWIKIOGD.fid-52c6621a_186c0bfb22a_-7e61</td>\n",
       "      <td>294007</td>\n",
       "      <td>POINT (16.258101639280678 48.19710480431093)</td>\n",
       "      <td>13., Rußpekgasse 3</td>\n",
       "      <td>NaN</td>\n",
       "      <td>NaN</td>\n",
       "      <td>NaN</td>\n",
       "      <td>NaN</td>\n",
       "      <td>Grünfläche</td>\n",
       "      <td>Franz Schimon</td>\n",
       "      <td>...</td>\n",
       "      <td>topografische_objekte</td>\n",
       "      <td>Hacking</td>\n",
       "      <td>NaN</td>\n",
       "      <td>45236</td>\n",
       "      <td>NaN</td>\n",
       "      <td>NaN</td>\n",
       "      <td>Franz-Schimon-Park</td>\n",
       "      <td>1</td>\n",
       "      <td>https://www.geschichtewiki.wien.gv.at/?curid=4...</td>\n",
       "      <td>NaN</td>\n",
       "    </tr>\n",
       "    <tr>\n",
       "      <th>2</th>\n",
       "      <td>KULTURWIKIOGD.fid-52c6621a_186c0bfb22a_-7e60</td>\n",
       "      <td>294008</td>\n",
       "      <td>POINT (16.2606861380513 48.18231434166762)</td>\n",
       "      <td>13., Schweizertalstraße 29D</td>\n",
       "      <td>NaN</td>\n",
       "      <td>NaN</td>\n",
       "      <td>NaN</td>\n",
       "      <td>NaN</td>\n",
       "      <td>Grünfläche</td>\n",
       "      <td>Franz Schmidt</td>\n",
       "      <td>...</td>\n",
       "      <td>topografische_objekte</td>\n",
       "      <td>NaN</td>\n",
       "      <td>NaN</td>\n",
       "      <td>31479</td>\n",
       "      <td>NaN</td>\n",
       "      <td>NaN</td>\n",
       "      <td>Franz-Schmidt-Park</td>\n",
       "      <td>1</td>\n",
       "      <td>https://www.geschichtewiki.wien.gv.at/?curid=3...</td>\n",
       "      <td>NaN</td>\n",
       "    </tr>\n",
       "  </tbody>\n",
       "</table>\n",
       "<p>3 rows × 27 columns</p>\n",
       "</div>"
      ],
      "text/plain": [
       "                                            FID  OBJECTID  \\\n",
       "0  KULTURWIKIOGD.fid-52c6621a_186c0bfb22a_-7e62    294006   \n",
       "1  KULTURWIKIOGD.fid-52c6621a_186c0bfb22a_-7e61    294007   \n",
       "2  KULTURWIKIOGD.fid-52c6621a_186c0bfb22a_-7e60    294008   \n",
       "\n",
       "                                           SHAPE                      ADRESSE  \\\n",
       "0  POINT (16.244504291918773 48.207665864191334)              14., Mondweg 91   \n",
       "1   POINT (16.258101639280678 48.19710480431093)           13., Rußpekgasse 3   \n",
       "2     POINT (16.2606861380513 48.18231434166762)  13., Schweizertalstraße 29D   \n",
       "\n",
       "  ANDERE_BEZEICHNUNG ART_DER_ORGANISATION ART_DES_BAUWERKS  \\\n",
       "0                NaN                  NaN              NaN   \n",
       "1                NaN                  NaN              NaN   \n",
       "2                NaN                  NaN              NaN   \n",
       "\n",
       "  ART_DES_EREIGNISSES ART_DES_OBJEKTS   BENANNT_NACH  ...  \\\n",
       "0                 NaN      Grünfläche    Franz Sauer  ...   \n",
       "1                 NaN      Grünfläche  Franz Schimon  ...   \n",
       "2                 NaN      Grünfläche  Franz Schmidt  ...   \n",
       "\n",
       "           KATEGORIE_TXT         LAGE  NAME_SEIT  PAGEID PROMINENTE_BEWOHNER  \\\n",
       "0  topografische_objekte  Wolfersberg        NaN   24895                 NaN   \n",
       "1  topografische_objekte      Hacking        NaN   45236                 NaN   \n",
       "2  topografische_objekte          NaN        NaN   31479                 NaN   \n",
       "\n",
       "  PROMINENTE_PERSONEN          SEITENNAME STADTPLAN  \\\n",
       "0                 NaN    Franz-Sauer-Park         1   \n",
       "1                 NaN  Franz-Schimon-Park         1   \n",
       "2                 NaN  Franz-Schmidt-Park         1   \n",
       "\n",
       "                                            WEBLINK1 SE_ANNO_CAD_DATA  \n",
       "0  https://www.geschichtewiki.wien.gv.at/?curid=2...              NaN  \n",
       "1  https://www.geschichtewiki.wien.gv.at/?curid=4...              NaN  \n",
       "2  https://www.geschichtewiki.wien.gv.at/?curid=3...              NaN  \n",
       "\n",
       "[3 rows x 27 columns]"
      ]
     },
     "execution_count": 141,
     "metadata": {},
     "output_type": "execute_result"
    }
   ],
   "source": [
    "df.head(3)"
   ]
  },
  {
   "cell_type": "markdown",
   "metadata": {
    "cell_id": "656ea798d5b54db0bf3dd14d0bd4299f",
    "deepnote_cell_type": "markdown",
    "tags": []
   },
   "source": [
    "## Step 1: First Analysis & Filter"
   ]
  },
  {
   "cell_type": "markdown",
   "metadata": {},
   "source": [
    "In the following code chunks we are:\n",
    "\n",
    "* creating a column for the district and one for the street out of the existing\n",
    "  \"adresse\" which contains both information\n",
    "* counting the number of objects per district"
   ]
  },
  {
   "cell_type": "code",
   "execution_count": 142,
   "metadata": {
    "cell_id": "072e68931f404ecab7f97413c436d7c7",
    "deepnote_cell_type": "code",
    "deepnote_to_be_reexecuted": false,
    "execution_millis": 45,
    "execution_start": 1650390595021,
    "source_hash": "ccae2e85",
    "tags": []
   },
   "outputs": [],
   "source": [
    "df['DISTRICT'] = df['ADRESSE'].str[0:2]\n",
    "df['STREET'] = df['ADRESSE'].str[5:]"
   ]
  },
  {
   "cell_type": "code",
   "execution_count": 143,
   "metadata": {},
   "outputs": [
    {
     "data": {
      "text/html": [
       "<style type=\"text/css\">\n",
       "</style>\n",
       "<table id=\"T_ece32_\">\n",
       "  <thead>\n",
       "    <tr>\n",
       "      <th class=\"blank level0\" >&nbsp;</th>\n",
       "      <th class=\"col_heading level0 col0\" >DISTRICT</th>\n",
       "    </tr>\n",
       "  </thead>\n",
       "  <tbody>\n",
       "    <tr>\n",
       "      <th id=\"T_ece32_level0_row0\" class=\"row_heading level0 row0\" >01</th>\n",
       "      <td id=\"T_ece32_row0_col0\" class=\"data row0 col0\" >2573</td>\n",
       "    </tr>\n",
       "    <tr>\n",
       "      <th id=\"T_ece32_level0_row1\" class=\"row_heading level0 row1\" >02</th>\n",
       "      <td id=\"T_ece32_row1_col0\" class=\"data row1 col0\" >888</td>\n",
       "    </tr>\n",
       "    <tr>\n",
       "      <th id=\"T_ece32_level0_row2\" class=\"row_heading level0 row2\" >03</th>\n",
       "      <td id=\"T_ece32_row2_col0\" class=\"data row2 col0\" >852</td>\n",
       "    </tr>\n",
       "    <tr>\n",
       "      <th id=\"T_ece32_level0_row3\" class=\"row_heading level0 row3\" >04</th>\n",
       "      <td id=\"T_ece32_row3_col0\" class=\"data row3 col0\" >369</td>\n",
       "    </tr>\n",
       "    <tr>\n",
       "      <th id=\"T_ece32_level0_row4\" class=\"row_heading level0 row4\" >05</th>\n",
       "      <td id=\"T_ece32_row4_col0\" class=\"data row4 col0\" >277</td>\n",
       "    </tr>\n",
       "    <tr>\n",
       "      <th id=\"T_ece32_level0_row5\" class=\"row_heading level0 row5\" >06</th>\n",
       "      <td id=\"T_ece32_row5_col0\" class=\"data row5 col0\" >386</td>\n",
       "    </tr>\n",
       "    <tr>\n",
       "      <th id=\"T_ece32_level0_row6\" class=\"row_heading level0 row6\" >07</th>\n",
       "      <td id=\"T_ece32_row6_col0\" class=\"data row6 col0\" >350</td>\n",
       "    </tr>\n",
       "    <tr>\n",
       "      <th id=\"T_ece32_level0_row7\" class=\"row_heading level0 row7\" >08</th>\n",
       "      <td id=\"T_ece32_row7_col0\" class=\"data row7 col0\" >308</td>\n",
       "    </tr>\n",
       "    <tr>\n",
       "      <th id=\"T_ece32_level0_row8\" class=\"row_heading level0 row8\" >09</th>\n",
       "      <td id=\"T_ece32_row8_col0\" class=\"data row8 col0\" >558</td>\n",
       "    </tr>\n",
       "    <tr>\n",
       "      <th id=\"T_ece32_level0_row9\" class=\"row_heading level0 row9\" >10</th>\n",
       "      <td id=\"T_ece32_row9_col0\" class=\"data row9 col0\" >787</td>\n",
       "    </tr>\n",
       "    <tr>\n",
       "      <th id=\"T_ece32_level0_row10\" class=\"row_heading level0 row10\" >11</th>\n",
       "      <td id=\"T_ece32_row10_col0\" class=\"data row10 col0\" >485</td>\n",
       "    </tr>\n",
       "    <tr>\n",
       "      <th id=\"T_ece32_level0_row11\" class=\"row_heading level0 row11\" >12</th>\n",
       "      <td id=\"T_ece32_row11_col0\" class=\"data row11 col0\" >503</td>\n",
       "    </tr>\n",
       "    <tr>\n",
       "      <th id=\"T_ece32_level0_row12\" class=\"row_heading level0 row12\" >13</th>\n",
       "      <td id=\"T_ece32_row12_col0\" class=\"data row12 col0\" >689</td>\n",
       "    </tr>\n",
       "    <tr>\n",
       "      <th id=\"T_ece32_level0_row13\" class=\"row_heading level0 row13\" >14</th>\n",
       "      <td id=\"T_ece32_row13_col0\" class=\"data row13 col0\" >792</td>\n",
       "    </tr>\n",
       "    <tr>\n",
       "      <th id=\"T_ece32_level0_row14\" class=\"row_heading level0 row14\" >15</th>\n",
       "      <td id=\"T_ece32_row14_col0\" class=\"data row14 col0\" >395</td>\n",
       "    </tr>\n",
       "    <tr>\n",
       "      <th id=\"T_ece32_level0_row15\" class=\"row_heading level0 row15\" >16</th>\n",
       "      <td id=\"T_ece32_row15_col0\" class=\"data row15 col0\" >470</td>\n",
       "    </tr>\n",
       "    <tr>\n",
       "      <th id=\"T_ece32_level0_row16\" class=\"row_heading level0 row16\" >17</th>\n",
       "      <td id=\"T_ece32_row16_col0\" class=\"data row16 col0\" >358</td>\n",
       "    </tr>\n",
       "    <tr>\n",
       "      <th id=\"T_ece32_level0_row17\" class=\"row_heading level0 row17\" >18</th>\n",
       "      <td id=\"T_ece32_row17_col0\" class=\"data row17 col0\" >357</td>\n",
       "    </tr>\n",
       "    <tr>\n",
       "      <th id=\"T_ece32_level0_row18\" class=\"row_heading level0 row18\" >19</th>\n",
       "      <td id=\"T_ece32_row18_col0\" class=\"data row18 col0\" >770</td>\n",
       "    </tr>\n",
       "    <tr>\n",
       "      <th id=\"T_ece32_level0_row19\" class=\"row_heading level0 row19\" >20</th>\n",
       "      <td id=\"T_ece32_row19_col0\" class=\"data row19 col0\" >278</td>\n",
       "    </tr>\n",
       "    <tr>\n",
       "      <th id=\"T_ece32_level0_row20\" class=\"row_heading level0 row20\" >21</th>\n",
       "      <td id=\"T_ece32_row20_col0\" class=\"data row20 col0\" >1053</td>\n",
       "    </tr>\n",
       "    <tr>\n",
       "      <th id=\"T_ece32_level0_row21\" class=\"row_heading level0 row21\" >22</th>\n",
       "      <td id=\"T_ece32_row21_col0\" class=\"data row21 col0\" >1326</td>\n",
       "    </tr>\n",
       "    <tr>\n",
       "      <th id=\"T_ece32_level0_row22\" class=\"row_heading level0 row22\" >23</th>\n",
       "      <td id=\"T_ece32_row22_col0\" class=\"data row22 col0\" >718</td>\n",
       "    </tr>\n",
       "  </tbody>\n",
       "</table>\n"
      ],
      "text/plain": [
       "<pandas.io.formats.style.Styler at 0x24c52022f70>"
      ]
     },
     "execution_count": 143,
     "metadata": {},
     "output_type": "execute_result"
    }
   ],
   "source": [
    "pd.DataFrame(df.sort_values(by=['DISTRICT'])['DISTRICT'].value_counts(sort=False)).style\n"
   ]
  },
  {
   "cell_type": "code",
   "execution_count": 144,
   "metadata": {
    "cell_id": "53927f5d88724ca9872460ac8e72476d",
    "deepnote_cell_type": "code",
    "deepnote_to_be_reexecuted": false,
    "execution_millis": 138,
    "execution_start": 1650390595066,
    "source_hash": "b9a092ed",
    "tags": []
   },
   "outputs": [
    {
     "data": {
      "text/html": [
       "<style type=\"text/css\">\n",
       "</style>\n",
       "<table id=\"T_77ea7_\">\n",
       "  <thead>\n",
       "    <tr>\n",
       "      <th class=\"blank level0\" >&nbsp;</th>\n",
       "      <th class=\"col_heading level0 col0\" >0</th>\n",
       "    </tr>\n",
       "  </thead>\n",
       "  <tbody>\n",
       "    <tr>\n",
       "      <th id=\"T_77ea7_level0_row0\" class=\"row_heading level0 row0\" >FID</th>\n",
       "      <td id=\"T_77ea7_row0_col0\" class=\"data row0 col0\" >350</td>\n",
       "    </tr>\n",
       "    <tr>\n",
       "      <th id=\"T_77ea7_level0_row1\" class=\"row_heading level0 row1\" >OBJECTID</th>\n",
       "      <td id=\"T_77ea7_row1_col0\" class=\"data row1 col0\" >350</td>\n",
       "    </tr>\n",
       "    <tr>\n",
       "      <th id=\"T_77ea7_level0_row2\" class=\"row_heading level0 row2\" >SHAPE</th>\n",
       "      <td id=\"T_77ea7_row2_col0\" class=\"data row2 col0\" >350</td>\n",
       "    </tr>\n",
       "    <tr>\n",
       "      <th id=\"T_77ea7_level0_row3\" class=\"row_heading level0 row3\" >ADRESSE</th>\n",
       "      <td id=\"T_77ea7_row3_col0\" class=\"data row3 col0\" >350</td>\n",
       "    </tr>\n",
       "    <tr>\n",
       "      <th id=\"T_77ea7_level0_row4\" class=\"row_heading level0 row4\" >ANDERE_BEZEICHNUNG</th>\n",
       "      <td id=\"T_77ea7_row4_col0\" class=\"data row4 col0\" >30</td>\n",
       "    </tr>\n",
       "    <tr>\n",
       "      <th id=\"T_77ea7_level0_row5\" class=\"row_heading level0 row5\" >ART_DER_ORGANISATION</th>\n",
       "      <td id=\"T_77ea7_row5_col0\" class=\"data row5 col0\" >30</td>\n",
       "    </tr>\n",
       "    <tr>\n",
       "      <th id=\"T_77ea7_level0_row6\" class=\"row_heading level0 row6\" >ART_DES_BAUWERKS</th>\n",
       "      <td id=\"T_77ea7_row6_col0\" class=\"data row6 col0\" >139</td>\n",
       "    </tr>\n",
       "    <tr>\n",
       "      <th id=\"T_77ea7_level0_row7\" class=\"row_heading level0 row7\" >ART_DES_EREIGNISSES</th>\n",
       "      <td id=\"T_77ea7_row7_col0\" class=\"data row7 col0\" >1</td>\n",
       "    </tr>\n",
       "    <tr>\n",
       "      <th id=\"T_77ea7_level0_row8\" class=\"row_heading level0 row8\" >ART_DES_OBJEKTS</th>\n",
       "      <td id=\"T_77ea7_row8_col0\" class=\"data row8 col0\" >85</td>\n",
       "    </tr>\n",
       "    <tr>\n",
       "      <th id=\"T_77ea7_level0_row9\" class=\"row_heading level0 row9\" >BENANNT_NACH</th>\n",
       "      <td id=\"T_77ea7_row9_col0\" class=\"data row9 col0\" >113</td>\n",
       "    </tr>\n",
       "    <tr>\n",
       "      <th id=\"T_77ea7_level0_row10\" class=\"row_heading level0 row10\" >BEZIRK</th>\n",
       "      <td id=\"T_77ea7_row10_col0\" class=\"data row10 col0\" >285</td>\n",
       "    </tr>\n",
       "    <tr>\n",
       "      <th id=\"T_77ea7_level0_row11\" class=\"row_heading level0 row11\" >BEZIRK_TXT</th>\n",
       "      <td id=\"T_77ea7_row11_col0\" class=\"data row11 col0\" >161</td>\n",
       "    </tr>\n",
       "    <tr>\n",
       "      <th id=\"T_77ea7_level0_row12\" class=\"row_heading level0 row12\" >DATUM_BIS</th>\n",
       "      <td id=\"T_77ea7_row12_col0\" class=\"data row12 col0\" >1</td>\n",
       "    </tr>\n",
       "    <tr>\n",
       "      <th id=\"T_77ea7_level0_row13\" class=\"row_heading level0 row13\" >DATUM_VON</th>\n",
       "      <td id=\"T_77ea7_row13_col0\" class=\"data row13 col0\" >73</td>\n",
       "    </tr>\n",
       "    <tr>\n",
       "      <th id=\"T_77ea7_level0_row14\" class=\"row_heading level0 row14\" >EINLAGEZAHL</th>\n",
       "      <td id=\"T_77ea7_row14_col0\" class=\"data row14 col0\" >1</td>\n",
       "    </tr>\n",
       "    <tr>\n",
       "      <th id=\"T_77ea7_level0_row15\" class=\"row_heading level0 row15\" >FRUEHERE_BEZEICHNUNG</th>\n",
       "      <td id=\"T_77ea7_row15_col0\" class=\"data row15 col0\" >21</td>\n",
       "    </tr>\n",
       "    <tr>\n",
       "      <th id=\"T_77ea7_level0_row16\" class=\"row_heading level0 row16\" >KATEGORIE</th>\n",
       "      <td id=\"T_77ea7_row16_col0\" class=\"data row16 col0\" >350</td>\n",
       "    </tr>\n",
       "    <tr>\n",
       "      <th id=\"T_77ea7_level0_row17\" class=\"row_heading level0 row17\" >KATEGORIE_TXT</th>\n",
       "      <td id=\"T_77ea7_row17_col0\" class=\"data row17 col0\" >350</td>\n",
       "    </tr>\n",
       "    <tr>\n",
       "      <th id=\"T_77ea7_level0_row18\" class=\"row_heading level0 row18\" >LAGE</th>\n",
       "      <td id=\"T_77ea7_row18_col0\" class=\"data row18 col0\" >17</td>\n",
       "    </tr>\n",
       "    <tr>\n",
       "      <th id=\"T_77ea7_level0_row19\" class=\"row_heading level0 row19\" >NAME_SEIT</th>\n",
       "      <td id=\"T_77ea7_row19_col0\" class=\"data row19 col0\" >17</td>\n",
       "    </tr>\n",
       "    <tr>\n",
       "      <th id=\"T_77ea7_level0_row20\" class=\"row_heading level0 row20\" >PAGEID</th>\n",
       "      <td id=\"T_77ea7_row20_col0\" class=\"data row20 col0\" >350</td>\n",
       "    </tr>\n",
       "    <tr>\n",
       "      <th id=\"T_77ea7_level0_row21\" class=\"row_heading level0 row21\" >PROMINENTE_BEWOHNER</th>\n",
       "      <td id=\"T_77ea7_row21_col0\" class=\"data row21 col0\" >8</td>\n",
       "    </tr>\n",
       "    <tr>\n",
       "      <th id=\"T_77ea7_level0_row22\" class=\"row_heading level0 row22\" >PROMINENTE_PERSONEN</th>\n",
       "      <td id=\"T_77ea7_row22_col0\" class=\"data row22 col0\" >12</td>\n",
       "    </tr>\n",
       "    <tr>\n",
       "      <th id=\"T_77ea7_level0_row23\" class=\"row_heading level0 row23\" >SEITENNAME</th>\n",
       "      <td id=\"T_77ea7_row23_col0\" class=\"data row23 col0\" >350</td>\n",
       "    </tr>\n",
       "    <tr>\n",
       "      <th id=\"T_77ea7_level0_row24\" class=\"row_heading level0 row24\" >STADTPLAN</th>\n",
       "      <td id=\"T_77ea7_row24_col0\" class=\"data row24 col0\" >350</td>\n",
       "    </tr>\n",
       "    <tr>\n",
       "      <th id=\"T_77ea7_level0_row25\" class=\"row_heading level0 row25\" >WEBLINK1</th>\n",
       "      <td id=\"T_77ea7_row25_col0\" class=\"data row25 col0\" >350</td>\n",
       "    </tr>\n",
       "    <tr>\n",
       "      <th id=\"T_77ea7_level0_row26\" class=\"row_heading level0 row26\" >SE_ANNO_CAD_DATA</th>\n",
       "      <td id=\"T_77ea7_row26_col0\" class=\"data row26 col0\" >0</td>\n",
       "    </tr>\n",
       "    <tr>\n",
       "      <th id=\"T_77ea7_level0_row27\" class=\"row_heading level0 row27\" >DISTRICT</th>\n",
       "      <td id=\"T_77ea7_row27_col0\" class=\"data row27 col0\" >350</td>\n",
       "    </tr>\n",
       "    <tr>\n",
       "      <th id=\"T_77ea7_level0_row28\" class=\"row_heading level0 row28\" >STREET</th>\n",
       "      <td id=\"T_77ea7_row28_col0\" class=\"data row28 col0\" >350</td>\n",
       "    </tr>\n",
       "  </tbody>\n",
       "</table>\n"
      ],
      "text/plain": [
       "<pandas.io.formats.style.Styler at 0x24c5686d6d0>"
      ]
     },
     "execution_count": 144,
     "metadata": {},
     "output_type": "execute_result"
    }
   ],
   "source": [
    "df_filtered = df[df['DISTRICT'] == '07']\n",
    "pd.DataFrame(df_filtered.count()).style\n"
   ]
  },
  {
   "cell_type": "markdown",
   "metadata": {},
   "source": [
    "Since we see that all of the feature names are German - we translate them to english:"
   ]
  },
  {
   "cell_type": "code",
   "execution_count": 145,
   "metadata": {},
   "outputs": [
    {
     "data": {
      "text/html": [
       "<style type=\"text/css\">\n",
       "</style>\n",
       "<table id=\"T_30ab6_\">\n",
       "  <thead>\n",
       "    <tr>\n",
       "      <th class=\"blank level0\" >&nbsp;</th>\n",
       "      <th class=\"col_heading level0 col0\" >0</th>\n",
       "    </tr>\n",
       "  </thead>\n",
       "  <tbody>\n",
       "    <tr>\n",
       "      <th id=\"T_30ab6_level0_row0\" class=\"row_heading level0 row0\" >fid</th>\n",
       "      <td id=\"T_30ab6_row0_col0\" class=\"data row0 col0\" >350</td>\n",
       "    </tr>\n",
       "    <tr>\n",
       "      <th id=\"T_30ab6_level0_row1\" class=\"row_heading level0 row1\" >objectid</th>\n",
       "      <td id=\"T_30ab6_row1_col0\" class=\"data row1 col0\" >350</td>\n",
       "    </tr>\n",
       "    <tr>\n",
       "      <th id=\"T_30ab6_level0_row2\" class=\"row_heading level0 row2\" >shape</th>\n",
       "      <td id=\"T_30ab6_row2_col0\" class=\"data row2 col0\" >350</td>\n",
       "    </tr>\n",
       "    <tr>\n",
       "      <th id=\"T_30ab6_level0_row3\" class=\"row_heading level0 row3\" >address</th>\n",
       "      <td id=\"T_30ab6_row3_col0\" class=\"data row3 col0\" >350</td>\n",
       "    </tr>\n",
       "    <tr>\n",
       "      <th id=\"T_30ab6_level0_row4\" class=\"row_heading level0 row4\" >other_name</th>\n",
       "      <td id=\"T_30ab6_row4_col0\" class=\"data row4 col0\" >30</td>\n",
       "    </tr>\n",
       "    <tr>\n",
       "      <th id=\"T_30ab6_level0_row5\" class=\"row_heading level0 row5\" >type_of_organization</th>\n",
       "      <td id=\"T_30ab6_row5_col0\" class=\"data row5 col0\" >30</td>\n",
       "    </tr>\n",
       "    <tr>\n",
       "      <th id=\"T_30ab6_level0_row6\" class=\"row_heading level0 row6\" >type_of_structure</th>\n",
       "      <td id=\"T_30ab6_row6_col0\" class=\"data row6 col0\" >139</td>\n",
       "    </tr>\n",
       "    <tr>\n",
       "      <th id=\"T_30ab6_level0_row7\" class=\"row_heading level0 row7\" >type_of_event</th>\n",
       "      <td id=\"T_30ab6_row7_col0\" class=\"data row7 col0\" >1</td>\n",
       "    </tr>\n",
       "    <tr>\n",
       "      <th id=\"T_30ab6_level0_row8\" class=\"row_heading level0 row8\" >kind_of_object</th>\n",
       "      <td id=\"T_30ab6_row8_col0\" class=\"data row8 col0\" >85</td>\n",
       "    </tr>\n",
       "    <tr>\n",
       "      <th id=\"T_30ab6_level0_row9\" class=\"row_heading level0 row9\" >named_by</th>\n",
       "      <td id=\"T_30ab6_row9_col0\" class=\"data row9 col0\" >113</td>\n",
       "    </tr>\n",
       "    <tr>\n",
       "      <th id=\"T_30ab6_level0_row10\" class=\"row_heading level0 row10\" >district</th>\n",
       "      <td id=\"T_30ab6_row10_col0\" class=\"data row10 col0\" >285</td>\n",
       "    </tr>\n",
       "    <tr>\n",
       "      <th id=\"T_30ab6_level0_row11\" class=\"row_heading level0 row11\" >district_txt</th>\n",
       "      <td id=\"T_30ab6_row11_col0\" class=\"data row11 col0\" >161</td>\n",
       "    </tr>\n",
       "    <tr>\n",
       "      <th id=\"T_30ab6_level0_row12\" class=\"row_heading level0 row12\" >date_of_destruction</th>\n",
       "      <td id=\"T_30ab6_row12_col0\" class=\"data row12 col0\" >1</td>\n",
       "    </tr>\n",
       "    <tr>\n",
       "      <th id=\"T_30ab6_level0_row13\" class=\"row_heading level0 row13\" >date_of_origin</th>\n",
       "      <td id=\"T_30ab6_row13_col0\" class=\"data row13 col0\" >73</td>\n",
       "    </tr>\n",
       "    <tr>\n",
       "      <th id=\"T_30ab6_level0_row14\" class=\"row_heading level0 row14\" >insertion_number</th>\n",
       "      <td id=\"T_30ab6_row14_col0\" class=\"data row14 col0\" >1</td>\n",
       "    </tr>\n",
       "    <tr>\n",
       "      <th id=\"T_30ab6_level0_row15\" class=\"row_heading level0 row15\" >former_designation</th>\n",
       "      <td id=\"T_30ab6_row15_col0\" class=\"data row15 col0\" >21</td>\n",
       "    </tr>\n",
       "    <tr>\n",
       "      <th id=\"T_30ab6_level0_row16\" class=\"row_heading level0 row16\" >category</th>\n",
       "      <td id=\"T_30ab6_row16_col0\" class=\"data row16 col0\" >350</td>\n",
       "    </tr>\n",
       "    <tr>\n",
       "      <th id=\"T_30ab6_level0_row17\" class=\"row_heading level0 row17\" >category_txt</th>\n",
       "      <td id=\"T_30ab6_row17_col0\" class=\"data row17 col0\" >350</td>\n",
       "    </tr>\n",
       "    <tr>\n",
       "      <th id=\"T_30ab6_level0_row18\" class=\"row_heading level0 row18\" >location</th>\n",
       "      <td id=\"T_30ab6_row18_col0\" class=\"data row18 col0\" >17</td>\n",
       "    </tr>\n",
       "    <tr>\n",
       "      <th id=\"T_30ab6_level0_row19\" class=\"row_heading level0 row19\" >name_page</th>\n",
       "      <td id=\"T_30ab6_row19_col0\" class=\"data row19 col0\" >17</td>\n",
       "    </tr>\n",
       "    <tr>\n",
       "      <th id=\"T_30ab6_level0_row20\" class=\"row_heading level0 row20\" >pageid</th>\n",
       "      <td id=\"T_30ab6_row20_col0\" class=\"data row20 col0\" >350</td>\n",
       "    </tr>\n",
       "    <tr>\n",
       "      <th id=\"T_30ab6_level0_row21\" class=\"row_heading level0 row21\" >celebrities_residents</th>\n",
       "      <td id=\"T_30ab6_row21_col0\" class=\"data row21 col0\" >8</td>\n",
       "    </tr>\n",
       "    <tr>\n",
       "      <th id=\"T_30ab6_level0_row22\" class=\"row_heading level0 row22\" >celebrities_persons</th>\n",
       "      <td id=\"T_30ab6_row22_col0\" class=\"data row22 col0\" >12</td>\n",
       "    </tr>\n",
       "    <tr>\n",
       "      <th id=\"T_30ab6_level0_row23\" class=\"row_heading level0 row23\" >page_name</th>\n",
       "      <td id=\"T_30ab6_row23_col0\" class=\"data row23 col0\" >350</td>\n",
       "    </tr>\n",
       "    <tr>\n",
       "      <th id=\"T_30ab6_level0_row24\" class=\"row_heading level0 row24\" >city_plan</th>\n",
       "      <td id=\"T_30ab6_row24_col0\" class=\"data row24 col0\" >350</td>\n",
       "    </tr>\n",
       "    <tr>\n",
       "      <th id=\"T_30ab6_level0_row25\" class=\"row_heading level0 row25\" >weblink1</th>\n",
       "      <td id=\"T_30ab6_row25_col0\" class=\"data row25 col0\" >350</td>\n",
       "    </tr>\n",
       "    <tr>\n",
       "      <th id=\"T_30ab6_level0_row26\" class=\"row_heading level0 row26\" >se_anno_cad_data</th>\n",
       "      <td id=\"T_30ab6_row26_col0\" class=\"data row26 col0\" >0</td>\n",
       "    </tr>\n",
       "    <tr>\n",
       "      <th id=\"T_30ab6_level0_row27\" class=\"row_heading level0 row27\" >district</th>\n",
       "      <td id=\"T_30ab6_row27_col0\" class=\"data row27 col0\" >350</td>\n",
       "    </tr>\n",
       "    <tr>\n",
       "      <th id=\"T_30ab6_level0_row28\" class=\"row_heading level0 row28\" >street</th>\n",
       "      <td id=\"T_30ab6_row28_col0\" class=\"data row28 col0\" >350</td>\n",
       "    </tr>\n",
       "  </tbody>\n",
       "</table>\n"
      ],
      "text/plain": [
       "<pandas.io.formats.style.Styler at 0x24c572a57c0>"
      ]
     },
     "execution_count": 145,
     "metadata": {},
     "output_type": "execute_result"
    }
   ],
   "source": [
    "column_names = {\n",
    "    'FID': 'fid',\n",
    "    'OBJECTID': 'objectid',\n",
    "    'SHAPE': 'shape',\n",
    "    'ADRESSE': 'address',\n",
    "    'ANDERE_BEZEICHNUNG': 'other_name',\n",
    "    'ART_DER_ORGANISATION': 'type_of_organization',\n",
    "    'ART_DES_BAUWERKS': 'type_of_structure',\n",
    "    'ART_DES_EREIGNISSES': 'type_of_event',\n",
    "    'ART_DES_OBJEKTS': 'kind_of_object',\n",
    "    'BENANNT_NACH': 'named_by',\n",
    "    'BEZIRK': 'district',\n",
    "    'BEZIRK_TXT': 'district_txt',\n",
    "    'DATUM_BIS': 'date_of_destruction',\n",
    "    'DATUM_VON': 'date_of_origin',\n",
    "    'EINLAGEZAHL': 'insertion_number',\n",
    "    'FRUEHERE_BEZEICHNUNG': 'former_designation',\n",
    "    'KATEGORIE': 'category',\n",
    "    'KATEGORIE_TXT': 'category_txt',\n",
    "    'LAGE': 'location',\n",
    "    'NAME_SEIT': 'name_page',\n",
    "    'PAGEID': 'pageid',\n",
    "    'PROMINENTE_BEWOHNER': 'celebrities_residents',\n",
    "    'PROMINENTE_PERSONEN': 'celebrities_persons',\n",
    "    'SEITENNAME': 'page_name',\n",
    "    'STADTPLAN': 'city_plan',\n",
    "    'WEBLINK1': 'weblink1',\n",
    "    'SE_ANNO_CAD_DATA': 'se_anno_cad_data',\n",
    "    'DISTRICT': 'district',\n",
    "    'STREET': 'street'\n",
    "}\n",
    "\n",
    "df_filtered = df_filtered.rename(columns=column_names)\n",
    "pd.DataFrame(df_filtered.count()).style"
   ]
  },
  {
   "cell_type": "markdown",
   "metadata": {},
   "source": [
    "Next we are\n",
    "\n",
    "* looking at the row with the least missing values to find out more about what the different column contain\n",
    "* dropping unnessary columns\n",
    "* looking at some summary graphics to gains some insights about the data"
   ]
  },
  {
   "cell_type": "code",
   "execution_count": 146,
   "metadata": {},
   "outputs": [
    {
     "data": {
      "text/html": [
       "<style type=\"text/css\">\n",
       "</style>\n",
       "<table id=\"T_07f87_\">\n",
       "  <thead>\n",
       "    <tr>\n",
       "      <th class=\"blank level0\" >&nbsp;</th>\n",
       "      <th class=\"col_heading level0 col0\" >fid</th>\n",
       "      <th class=\"col_heading level0 col1\" >objectid</th>\n",
       "      <th class=\"col_heading level0 col2\" >shape</th>\n",
       "      <th class=\"col_heading level0 col3\" >address</th>\n",
       "      <th class=\"col_heading level0 col4\" >other_name</th>\n",
       "      <th class=\"col_heading level0 col5\" >type_of_organization</th>\n",
       "      <th class=\"col_heading level0 col6\" >type_of_structure</th>\n",
       "      <th class=\"col_heading level0 col7\" >type_of_event</th>\n",
       "      <th class=\"col_heading level0 col8\" >kind_of_object</th>\n",
       "      <th class=\"col_heading level0 col9\" >named_by</th>\n",
       "      <th class=\"col_heading level0 col10\" >district</th>\n",
       "      <th class=\"col_heading level0 col11\" >district_txt</th>\n",
       "      <th class=\"col_heading level0 col12\" >date_of_destruction</th>\n",
       "      <th class=\"col_heading level0 col13\" >date_of_origin</th>\n",
       "      <th class=\"col_heading level0 col14\" >insertion_number</th>\n",
       "      <th class=\"col_heading level0 col15\" >former_designation</th>\n",
       "      <th class=\"col_heading level0 col16\" >category</th>\n",
       "      <th class=\"col_heading level0 col17\" >category_txt</th>\n",
       "      <th class=\"col_heading level0 col18\" >location</th>\n",
       "      <th class=\"col_heading level0 col19\" >name_page</th>\n",
       "      <th class=\"col_heading level0 col20\" >pageid</th>\n",
       "      <th class=\"col_heading level0 col21\" >celebrities_residents</th>\n",
       "      <th class=\"col_heading level0 col22\" >celebrities_persons</th>\n",
       "      <th class=\"col_heading level0 col23\" >page_name</th>\n",
       "      <th class=\"col_heading level0 col24\" >city_plan</th>\n",
       "      <th class=\"col_heading level0 col25\" >weblink1</th>\n",
       "      <th class=\"col_heading level0 col26\" >se_anno_cad_data</th>\n",
       "      <th class=\"col_heading level0 col27\" >district</th>\n",
       "      <th class=\"col_heading level0 col28\" >street</th>\n",
       "    </tr>\n",
       "  </thead>\n",
       "  <tbody>\n",
       "    <tr>\n",
       "      <th id=\"T_07f87_level0_row0\" class=\"row_heading level0 row0\" >2021</th>\n",
       "      <td id=\"T_07f87_row0_col0\" class=\"data row0 col0\" >KULTURWIKIOGD.fid-52c6621a_186c0bfb22a_-767d</td>\n",
       "      <td id=\"T_07f87_row0_col1\" class=\"data row0 col1\" >290160</td>\n",
       "      <td id=\"T_07f87_row0_col2\" class=\"data row0 col2\" >POINT (16.351523540077157 48.20555287080875)</td>\n",
       "      <td id=\"T_07f87_row0_col3\" class=\"data row0 col3\" >07., Neustiftgasse 30</td>\n",
       "      <td id=\"T_07f87_row0_col4\" class=\"data row0 col4\" >nan</td>\n",
       "      <td id=\"T_07f87_row0_col5\" class=\"data row0 col5\" >nan</td>\n",
       "      <td id=\"T_07f87_row0_col6\" class=\"data row0 col6\" >nan</td>\n",
       "      <td id=\"T_07f87_row0_col7\" class=\"data row0 col7\" >nan</td>\n",
       "      <td id=\"T_07f87_row0_col8\" class=\"data row0 col8\" >Verkehrsfläche</td>\n",
       "      <td id=\"T_07f87_row0_col9\" class=\"data row0 col9\" >Georg Kellermann</td>\n",
       "      <td id=\"T_07f87_row0_col10\" class=\"data row0 col10\" >7.000000</td>\n",
       "      <td id=\"T_07f87_row0_col11\" class=\"data row0 col11\" >7</td>\n",
       "      <td id=\"T_07f87_row0_col12\" class=\"data row0 col12\" >nan</td>\n",
       "      <td id=\"T_07f87_row0_col13\" class=\"data row0 col13\" >1910.000000</td>\n",
       "      <td id=\"T_07f87_row0_col14\" class=\"data row0 col14\" >nan</td>\n",
       "      <td id=\"T_07f87_row0_col15\" class=\"data row0 col15\" >Schottenhofgasse</td>\n",
       "      <td id=\"T_07f87_row0_col16\" class=\"data row0 col16\" >0</td>\n",
       "      <td id=\"T_07f87_row0_col17\" class=\"data row0 col17\" >TopografischeObjekte</td>\n",
       "      <td id=\"T_07f87_row0_col18\" class=\"data row0 col18\" >nan</td>\n",
       "      <td id=\"T_07f87_row0_col19\" class=\"data row0 col19\" >20 Mai 1910</td>\n",
       "      <td id=\"T_07f87_row0_col20\" class=\"data row0 col20\" >3419</td>\n",
       "      <td id=\"T_07f87_row0_col21\" class=\"data row0 col21\" >Max Devrient</td>\n",
       "      <td id=\"T_07f87_row0_col22\" class=\"data row0 col22\" >nan</td>\n",
       "      <td id=\"T_07f87_row0_col23\" class=\"data row0 col23\" >Kellermanngasse</td>\n",
       "      <td id=\"T_07f87_row0_col24\" class=\"data row0 col24\" >1</td>\n",
       "      <td id=\"T_07f87_row0_col25\" class=\"data row0 col25\" >https://www.geschichtewiki.wien.gv.at/?curid=3419</td>\n",
       "      <td id=\"T_07f87_row0_col26\" class=\"data row0 col26\" >nan</td>\n",
       "      <td id=\"T_07f87_row0_col27\" class=\"data row0 col27\" >07</td>\n",
       "      <td id=\"T_07f87_row0_col28\" class=\"data row0 col28\" >Neustiftgasse 30</td>\n",
       "    </tr>\n",
       "  </tbody>\n",
       "</table>\n"
      ],
      "text/plain": [
       "<pandas.io.formats.style.Styler at 0x24c59a92880>"
      ]
     },
     "execution_count": 146,
     "metadata": {},
     "output_type": "execute_result"
    }
   ],
   "source": [
    "\n",
    "df_filtered[df_filtered.isnull().sum(axis=1) == min(df_filtered.isnull().sum(axis=1))].head(1).style"
   ]
  },
  {
   "cell_type": "code",
   "execution_count": 147,
   "metadata": {},
   "outputs": [],
   "source": [
    "df_filtered = df_filtered.drop(columns=['fid', 'objectid', 'address', 'district', 'district_txt',\n",
    "                                        'insertion_number', 'former_designation', 'category', 'location', 'pageid', 'city_plan',\n",
    "                                        'celebrities_residents', 'celebrities_persons', 'se_anno_cad_data',\n",
    "                                         'named_by', 'name_page', 'other_name'], inplace=False)\n"
   ]
  },
  {
   "cell_type": "code",
   "execution_count": 148,
   "metadata": {
    "cell_id": "6adc76ead4fd447b950592ba25926bda",
    "deepnote_cell_type": "code",
    "deepnote_to_be_reexecuted": false,
    "execution_millis": 577,
    "execution_start": 1650390595257,
    "source_hash": "384bcba0",
    "tags": []
   },
   "outputs": [
    {
     "data": {
      "text/plain": [
       "<AxesSubplot:>"
      ]
     },
     "execution_count": 148,
     "metadata": {},
     "output_type": "execute_result"
    },
    {
     "data": {
      "image/png": "[encoded data removed]",
      "text/plain": [
       "<Figure size 432x288 with 1 Axes>"
      ]
     },
     "metadata": {
      "needs_background": "light"
     },
     "output_type": "display_data"
    }
   ],
   "source": [
    "df_filtered.type_of_structure.value_counts().plot(kind='barh')"
   ]
  },
  {
   "cell_type": "code",
   "execution_count": 149,
   "metadata": {
    "cell_id": "4af095e911544af9b907b5d06ae0a33f",
    "deepnote_cell_type": "code",
    "deepnote_to_be_reexecuted": false,
    "execution_millis": 463,
    "execution_start": 1650390595839,
    "source_hash": "9f5ec2b0",
    "tags": []
   },
   "outputs": [
    {
     "data": {
      "text/plain": [
       "<AxesSubplot:>"
      ]
     },
     "execution_count": 149,
     "metadata": {},
     "output_type": "execute_result"
    },
    {
     "data": {
      "image/png": "[encoded data removed]",
      "text/plain": [
       "<Figure size 432x288 with 1 Axes>"
      ]
     },
     "metadata": {
      "needs_background": "light"
     },
     "output_type": "display_data"
    }
   ],
   "source": [
    "df_filtered.type_of_organization.value_counts().plot(kind='barh')"
   ]
  },
  {
   "cell_type": "code",
   "execution_count": 150,
   "metadata": {
    "cell_id": "ba9a7d1fe49f42e796f32668c9580d8b",
    "deepnote_cell_type": "code",
    "deepnote_to_be_reexecuted": false,
    "execution_millis": 511,
    "execution_start": 1650390596322,
    "source_hash": "919f2cd",
    "tags": []
   },
   "outputs": [
    {
     "data": {
      "text/plain": [
       "<AxesSubplot:>"
      ]
     },
     "execution_count": 150,
     "metadata": {},
     "output_type": "execute_result"
    },
    {
     "data": {
      "image/png": "[encoded data removed]",
      "text/plain": [
       "<Figure size 432x288 with 1 Axes>"
      ]
     },
     "metadata": {
      "needs_background": "light"
     },
     "output_type": "display_data"
    }
   ],
   "source": [
    "df_filtered.category_txt.value_counts().plot(kind='barh')"
   ]
  },
  {
   "cell_type": "markdown",
   "metadata": {
    "cell_id": "7c9cc7054be84a22942712caa1ab866f",
    "deepnote_cell_type": "markdown",
    "tags": []
   },
   "source": [
    "### Step 1.1: Analysis of Missing Values"
   ]
  },
  {
   "cell_type": "markdown",
   "metadata": {},
   "source": [
    "Next we are looking at some summary statistics on the number of values that \n",
    "we have available for the different columns in our data set."
   ]
  },
  {
   "cell_type": "code",
   "execution_count": 194,
   "metadata": {
    "cell_id": "42ceb3879c814ebfbac38d53a11ffbe8",
    "deepnote_cell_type": "code",
    "deepnote_to_be_reexecuted": false,
    "execution_millis": 0,
    "execution_start": 1650390596904,
    "source_hash": "4dfdd723",
    "tags": []
   },
   "outputs": [],
   "source": [
    "def visualize_missing_values(dataframe):\n",
    "    \"\"\"\n",
    "    method to visualize the number of missing and available values per column\n",
    "    \"\"\"\n",
    "    numer_of_na = dataframe.isnull().sum(axis = 0)\n",
    "    numer_of_na = numer_of_na.to_frame()\n",
    "\n",
    "    numer_of_a = dataframe.notnull().sum(axis = 0)\n",
    "    numer_of_a = numer_of_a.to_frame()\n",
    "\n",
    "    index = numer_of_na\n",
    "\n",
    "    #specify resolution\n",
    "    plt.figure(figsize=(14, 3), dpi=120)\n",
    "\n",
    "    #print bars\n",
    "    plt.bar(numer_of_na.index, height=numer_of_a[0], color='#6ce083', label='Available')\n",
    "    plt.bar(numer_of_na.index, bottom=numer_of_a[0], height=numer_of_na[0], color='#ededed', label='Not Available')\n",
    "    plt.legend(loc='upper right', bbox_to_anchor=(1, 1.14), ncol=2)\n",
    "    plt.title('Overview of Missing Values')\n",
    "\n",
    "    #show values of bars\n",
    "    for index, value in enumerate(numer_of_a[0]):\n",
    "        plt.text(index, value, str(value),  ha='left', va='top',)\n",
    "\n",
    "    #label the plot\n",
    "    plt.xlabel('Features')\n",
    "    plt.ylabel('Number of Available Data Records')\n",
    "\n",
    "    #rotate x labels\n",
    "    _ = plt.xticks(rotation=30)\n"
   ]
  },
  {
   "cell_type": "code",
   "execution_count": 196,
   "metadata": {
    "cell_id": "ed49055259bd40c8ac3ed52f620d76f8",
    "deepnote_cell_type": "code",
    "deepnote_to_be_reexecuted": false,
    "execution_millis": 1648,
    "execution_start": 1650390596905,
    "source_hash": "4408e953",
    "tags": []
   },
   "outputs": [
    {
     "data": {
      "image/png": "[encoded data removed]",
      "text/plain": [
       "<Figure size 1680x360 with 1 Axes>"
      ]
     },
     "metadata": {
      "needs_background": "light"
     },
     "output_type": "display_data"
    }
   ],
   "source": [
    "visualize_missing_values(df_filtered)\n",
    "\n",
    "# Save the figure with minimal white space\n",
    "plt.savefig('./plots/missing_values.pdf', format='pdf', bbox_inches='tight')"
   ]
  },
  {
   "cell_type": "markdown",
   "metadata": {
    "cell_id": "591b37452ce1482c96ba87b97c5bd3a2",
    "deepnote_cell_type": "markdown",
    "tags": []
   },
   "source": [
    "## Step 2: Extending the Dataset by Webscraping"
   ]
  },
  {
   "cell_type": "markdown",
   "metadata": {},
   "source": [
    "The analysis in the last step showed that a range of essential values appear to be missing.\n",
    "\n",
    "Luckily I found out that the information on some missing values is available on the Wien wiki website.\n",
    "\n",
    "That is why we are now scraping the wien wiki website for the different pages on the different objects."
   ]
  },
  {
   "cell_type": "code",
   "execution_count": 86,
   "metadata": {
    "cell_id": "730644021c734e4f9ee6f29b0d42f21a",
    "deepnote_cell_type": "code",
    "deepnote_to_be_reexecuted": false,
    "execution_millis": 4114,
    "execution_start": 1650390598564,
    "source_hash": "72eedb35",
    "tags": []
   },
   "outputs": [
    {
     "name": "stdout",
     "output_type": "stream",
     "text": [
      "(1783, None, 'Apotheke')\n",
      "(None, None, 'Sakrale_Freiplastik')\n",
      "(None, None, 'Verlag')\n"
     ]
    }
   ],
   "source": [
    "def look_up_facts(url):\n",
    "    \"\"\" \n",
    "    method that takes as input\n",
    "    a link to a page of wien wiki\n",
    "    and return information (date of the object, etc.)\n",
    "    that can be found on the webpage\n",
    "    \"\"\"\n",
    "    try:\n",
    "        # try to open the page\n",
    "        page = urlopen(url)\n",
    "    except:\n",
    "        return None, None, None\n",
    "\n",
    "    #read html and convert it to a string\n",
    "    html_bytes = page.read()\n",
    "    html = str(html_bytes.decode(\"utf-8\"))\n",
    "\n",
    "    #find the start year\n",
    "    marker = '<td><span class=\"smw-property nolink\">'\n",
    "    position = html.find(marker+'Datum von')\n",
    "    try:\n",
    "        year_begin = int(html[position:position+69][-4:])\n",
    "    except:\n",
    "        if \"ersten Bauphase des Spittelbergviertels\" in html:\n",
    "            year_begin = 1725\n",
    "        else:\n",
    "            year_begin = None\n",
    "            #if \"Jahrhundert\" in html[:html.find('id=\"Literatur\">')]: \n",
    "                #try:\n",
    "                 #   century = re.findall(r\"\\d+...Jahrhundert\",html)[0]\n",
    "                 #   century = re.findall(r\"\\d+\",century)[0]\n",
    "                  #  year_begin = (int(century)*100)-100\n",
    "\n",
    "                  #  if \"zweite Hälfte\" in html or \"Ende des\" in html:\n",
    "                   #     year_begin += 50\n",
    "                #except:\n",
    "                   # year_begin = None\n",
    "            \n",
    "           # else:\n",
    "              #  year_begin = None\n",
    "\n",
    "    #find the end year\n",
    "    position = html.find(marker+'Datum bis')\n",
    "    try:\n",
    "        year_end = int(html[position:position+69][-4:])\n",
    "    except:\n",
    "        year_end = None\n",
    "\n",
    "    #find the type of object\n",
    "    position = html.find(marker+'Art')\n",
    "    object_type = html[position:position+150]\n",
    "    \n",
    "    if 'title=' in object_type:\n",
    "        object_type = object_type[object_type.find('title='):object_type.find('&amp;')]\n",
    "        object_type = re.sub('<.*>|\"|<.*|>.*|\\\\|\\n|\\\\n|title=', \"\", object_type).strip()\n",
    "    else:\n",
    "        object_type = None\n",
    "\n",
    "    return year_begin, year_end, object_type\n",
    "\n",
    "\n",
    "print(look_up_facts('https://www.geschichtewiki.wien.gv.at/Wien_Geschichte_Wiki?curid=12421'))\n",
    "print(look_up_facts('https://www.geschichtewiki.wien.gv.at/?curid=25703'))\n",
    "print(look_up_facts('https://www.geschichtewiki.wien.gv.at/?curid=69557'))\n",
    "\n",
    "\n"
   ]
  },
  {
   "cell_type": "code",
   "execution_count": 87,
   "metadata": {
    "cell_id": "50477ae8497349189f132b39218585ae",
    "deepnote_cell_type": "code",
    "deepnote_to_be_reexecuted": false,
    "execution_millis": 699030,
    "execution_start": 1650390602691,
    "source_hash": "620906a6",
    "tags": []
   },
   "outputs": [],
   "source": [
    "%%capture\n",
    "row_counter=0\n",
    "import numpy as np\n",
    "\n",
    "df_filtered['OBJECTTYPE'] = ''\n",
    "\n",
    "for i in df_filtered.iterrows():\n",
    "    \n",
    "    #look up the information on the web\n",
    "    year_begin, year_end, object_type  = look_up_facts(df_filtered['weblink1'].iloc[row_counter])\n",
    "\n",
    "    if year_begin != None and np.isnan(df_filtered['date_of_origin'].iloc[row_counter]):\n",
    "        df_filtered['date_of_origin'].iloc[row_counter] = year_begin\n",
    "\n",
    "    if year_end != None and np.isnan(df_filtered['date_of_destruction'].iloc[row_counter]):\n",
    "        df_filtered['date_of_destruction'].iloc[row_counter] = year_end\n",
    "\n",
    "    df_filtered['OBJECTTYPE'].iloc[row_counter] = object_type\n",
    "        \n",
    "    row_counter +=1"
   ]
  },
  {
   "cell_type": "code",
   "execution_count": 197,
   "metadata": {
    "cell_id": "4dd9c0f263dd41cdba10a3029a649530",
    "deepnote_cell_type": "code",
    "deepnote_to_be_reexecuted": false,
    "execution_millis": 1168,
    "execution_start": 1650391301761,
    "scrolled": true,
    "source_hash": "4408e953",
    "tags": []
   },
   "outputs": [
    {
     "data": {
      "image/png": "[encoded data removed]",
      "text/plain": [
       "<Figure size 1680x360 with 1 Axes>"
      ]
     },
     "metadata": {
      "needs_background": "light"
     },
     "output_type": "display_data"
    }
   ],
   "source": [
    "visualize_missing_values(df_filtered)"
   ]
  },
  {
   "cell_type": "code",
   "execution_count": 89,
   "metadata": {},
   "outputs": [
    {
     "data": {
      "text/html": [
       "<div>\n",
       "<style scoped>\n",
       "    .dataframe tbody tr th:only-of-type {\n",
       "        vertical-align: middle;\n",
       "    }\n",
       "\n",
       "    .dataframe tbody tr th {\n",
       "        vertical-align: top;\n",
       "    }\n",
       "\n",
       "    .dataframe thead th {\n",
       "        text-align: right;\n",
       "    }\n",
       "</style>\n",
       "<table border=\"1\" class=\"dataframe\">\n",
       "  <thead>\n",
       "    <tr style=\"text-align: right;\">\n",
       "      <th></th>\n",
       "      <th>shape</th>\n",
       "      <th>type_of_organization</th>\n",
       "      <th>type_of_structure</th>\n",
       "      <th>type_of_event</th>\n",
       "      <th>kind_of_object</th>\n",
       "      <th>date_of_destruction</th>\n",
       "      <th>date_of_origin</th>\n",
       "      <th>category_txt</th>\n",
       "      <th>page_name</th>\n",
       "      <th>weblink1</th>\n",
       "      <th>street</th>\n",
       "      <th>OBJECTTYPE</th>\n",
       "    </tr>\n",
       "  </thead>\n",
       "  <tbody>\n",
       "    <tr>\n",
       "      <th>3082</th>\n",
       "      <td>POINT (16.354465817854027 48.20117129310806)</td>\n",
       "      <td>NaN</td>\n",
       "      <td>Denkmal</td>\n",
       "      <td>NaN</td>\n",
       "      <td>NaN</td>\n",
       "      <td>NaN</td>\n",
       "      <td>NaN</td>\n",
       "      <td>Bauwerke</td>\n",
       "      <td>Schulze-Delitzsch-Büste</td>\n",
       "      <td>https://www.geschichtewiki.wien.gv.at/?curid=1...</td>\n",
       "      <td>Lindengasse 5</td>\n",
       "      <td>None</td>\n",
       "    </tr>\n",
       "    <tr>\n",
       "      <th>3225</th>\n",
       "      <td>POINT (16.350505065320682 48.20583799252045)</td>\n",
       "      <td>NaN</td>\n",
       "      <td>Denkmal</td>\n",
       "      <td>NaN</td>\n",
       "      <td>NaN</td>\n",
       "      <td>NaN</td>\n",
       "      <td>NaN</td>\n",
       "      <td>Bauwerke</td>\n",
       "      <td>Türkischer Reiter</td>\n",
       "      <td>https://www.geschichtewiki.wien.gv.at/?curid=371</td>\n",
       "      <td>Neustiftgasse 32 Obj. 3</td>\n",
       "      <td>None</td>\n",
       "    </tr>\n",
       "    <tr>\n",
       "      <th>3287</th>\n",
       "      <td>POINT (16.33859401530327 48.20148204091174)</td>\n",
       "      <td>NaN</td>\n",
       "      <td>Denkmal</td>\n",
       "      <td>NaN</td>\n",
       "      <td>NaN</td>\n",
       "      <td>NaN</td>\n",
       "      <td>1901.0</td>\n",
       "      <td>bauwerke</td>\n",
       "      <td>Urban-Loritz-Denkmal</td>\n",
       "      <td>https://www.geschichtewiki.wien.gv.at/?curid=2317</td>\n",
       "      <td>Urban-Loritz-Platz 7</td>\n",
       "      <td>None</td>\n",
       "    </tr>\n",
       "    <tr>\n",
       "      <th>3614</th>\n",
       "      <td>POINT (16.35484401537997 48.20663604103296)</td>\n",
       "      <td>NaN</td>\n",
       "      <td>Denkmal</td>\n",
       "      <td>NaN</td>\n",
       "      <td>NaN</td>\n",
       "      <td>NaN</td>\n",
       "      <td>1982.0</td>\n",
       "      <td>bauwerke</td>\n",
       "      <td>Wildgansdenkmal (7)</td>\n",
       "      <td>https://www.geschichtewiki.wien.gv.at/?curid=1...</td>\n",
       "      <td>Lerchenfelder Straße 1-3 Hotel</td>\n",
       "      <td>None</td>\n",
       "    </tr>\n",
       "    <tr>\n",
       "      <th>3803</th>\n",
       "      <td>POINT (16.35685601554536 48.205680040981925)</td>\n",
       "      <td>NaN</td>\n",
       "      <td>Denkmal</td>\n",
       "      <td>NaN</td>\n",
       "      <td>NaN</td>\n",
       "      <td>NaN</td>\n",
       "      <td>1898.0</td>\n",
       "      <td>Bauwerke</td>\n",
       "      <td>Raimunddenkmal</td>\n",
       "      <td>https://www.geschichtewiki.wien.gv.at/?curid=2...</td>\n",
       "      <td>Weghuberpark</td>\n",
       "      <td>None</td>\n",
       "    </tr>\n",
       "    <tr>\n",
       "      <th>3932</th>\n",
       "      <td>POINT (16.359936015897887 48.204105041053744)</td>\n",
       "      <td>NaN</td>\n",
       "      <td>Denkmal</td>\n",
       "      <td>NaN</td>\n",
       "      <td>NaN</td>\n",
       "      <td>NaN</td>\n",
       "      <td>1892.0</td>\n",
       "      <td>Bauwerke</td>\n",
       "      <td>Rossebändiger (1, Maria-Theresien-Platz)</td>\n",
       "      <td>https://www.geschichtewiki.wien.gv.at/?curid=2...</td>\n",
       "      <td>Museumsplatz TIEFGARAGE</td>\n",
       "      <td>None</td>\n",
       "    </tr>\n",
       "    <tr>\n",
       "      <th>3992</th>\n",
       "      <td>POINT (16.338590015727075 48.20148004090285)</td>\n",
       "      <td>NaN</td>\n",
       "      <td>Denkmal</td>\n",
       "      <td>NaN</td>\n",
       "      <td>NaN</td>\n",
       "      <td>NaN</td>\n",
       "      <td>1901.0</td>\n",
       "      <td>Bauwerke</td>\n",
       "      <td>Loritzdenkmal</td>\n",
       "      <td>https://www.geschichtewiki.wien.gv.at/?curid=1...</td>\n",
       "      <td>Urban-Loritz-Platz 7</td>\n",
       "      <td>None</td>\n",
       "    </tr>\n",
       "    <tr>\n",
       "      <th>7622</th>\n",
       "      <td>POINT (16.357103015699547 48.20495404062671)</td>\n",
       "      <td>NaN</td>\n",
       "      <td>Denkmal</td>\n",
       "      <td>NaN</td>\n",
       "      <td>NaN</td>\n",
       "      <td>NaN</td>\n",
       "      <td>1952.0</td>\n",
       "      <td>Bauwerke</td>\n",
       "      <td>Hansi-Niese-Denkmal</td>\n",
       "      <td>https://www.geschichtewiki.wien.gv.at/?curid=2...</td>\n",
       "      <td>Arthur-Schnitzler-Platz 1</td>\n",
       "      <td>None</td>\n",
       "    </tr>\n",
       "    <tr>\n",
       "      <th>7685</th>\n",
       "      <td>POINT (16.338555016237578 48.19854904094482)</td>\n",
       "      <td>NaN</td>\n",
       "      <td>Denkmal</td>\n",
       "      <td>NaN</td>\n",
       "      <td>NaN</td>\n",
       "      <td>NaN</td>\n",
       "      <td>1909.0</td>\n",
       "      <td>bauwerke</td>\n",
       "      <td>Hesserdenkmal</td>\n",
       "      <td>https://www.geschichtewiki.wien.gv.at/?curid=1...</td>\n",
       "      <td>Neubaugürtel 14-16</td>\n",
       "      <td>None</td>\n",
       "    </tr>\n",
       "    <tr>\n",
       "      <th>9313</th>\n",
       "      <td>POINT (16.35087002828909 48.200543273358576)</td>\n",
       "      <td>NaN</td>\n",
       "      <td>NaN</td>\n",
       "      <td>NaN</td>\n",
       "      <td>NaN</td>\n",
       "      <td>NaN</td>\n",
       "      <td>NaN</td>\n",
       "      <td>topografische_objekte</td>\n",
       "      <td>Zollamtsgründe</td>\n",
       "      <td>https://www.geschichtewiki.wien.gv.at/?curid=8453</td>\n",
       "      <td>Zollergasse 14</td>\n",
       "      <td>None</td>\n",
       "    </tr>\n",
       "  </tbody>\n",
       "</table>\n",
       "</div>"
      ],
      "text/plain": [
       "                                              shape type_of_organization  \\\n",
       "3082   POINT (16.354465817854027 48.20117129310806)                  NaN   \n",
       "3225   POINT (16.350505065320682 48.20583799252045)                  NaN   \n",
       "3287    POINT (16.33859401530327 48.20148204091174)                  NaN   \n",
       "3614    POINT (16.35484401537997 48.20663604103296)                  NaN   \n",
       "3803   POINT (16.35685601554536 48.205680040981925)                  NaN   \n",
       "3932  POINT (16.359936015897887 48.204105041053744)                  NaN   \n",
       "3992   POINT (16.338590015727075 48.20148004090285)                  NaN   \n",
       "7622   POINT (16.357103015699547 48.20495404062671)                  NaN   \n",
       "7685   POINT (16.338555016237578 48.19854904094482)                  NaN   \n",
       "9313   POINT (16.35087002828909 48.200543273358576)                  NaN   \n",
       "\n",
       "     type_of_structure type_of_event kind_of_object  date_of_destruction  \\\n",
       "3082           Denkmal           NaN            NaN                  NaN   \n",
       "3225           Denkmal           NaN            NaN                  NaN   \n",
       "3287           Denkmal           NaN            NaN                  NaN   \n",
       "3614           Denkmal           NaN            NaN                  NaN   \n",
       "3803           Denkmal           NaN            NaN                  NaN   \n",
       "3932           Denkmal           NaN            NaN                  NaN   \n",
       "3992           Denkmal           NaN            NaN                  NaN   \n",
       "7622           Denkmal           NaN            NaN                  NaN   \n",
       "7685           Denkmal           NaN            NaN                  NaN   \n",
       "9313               NaN           NaN            NaN                  NaN   \n",
       "\n",
       "      date_of_origin           category_txt  \\\n",
       "3082             NaN               Bauwerke   \n",
       "3225             NaN               Bauwerke   \n",
       "3287          1901.0               bauwerke   \n",
       "3614          1982.0               bauwerke   \n",
       "3803          1898.0               Bauwerke   \n",
       "3932          1892.0               Bauwerke   \n",
       "3992          1901.0               Bauwerke   \n",
       "7622          1952.0               Bauwerke   \n",
       "7685          1909.0               bauwerke   \n",
       "9313             NaN  topografische_objekte   \n",
       "\n",
       "                                     page_name  \\\n",
       "3082                   Schulze-Delitzsch-Büste   \n",
       "3225                         Türkischer Reiter   \n",
       "3287                      Urban-Loritz-Denkmal   \n",
       "3614                       Wildgansdenkmal (7)   \n",
       "3803                            Raimunddenkmal   \n",
       "3932  Rossebändiger (1, Maria-Theresien-Platz)   \n",
       "3992                             Loritzdenkmal   \n",
       "7622                       Hansi-Niese-Denkmal   \n",
       "7685                             Hesserdenkmal   \n",
       "9313                            Zollamtsgründe   \n",
       "\n",
       "                                               weblink1  \\\n",
       "3082  https://www.geschichtewiki.wien.gv.at/?curid=1...   \n",
       "3225   https://www.geschichtewiki.wien.gv.at/?curid=371   \n",
       "3287  https://www.geschichtewiki.wien.gv.at/?curid=2317   \n",
       "3614  https://www.geschichtewiki.wien.gv.at/?curid=1...   \n",
       "3803  https://www.geschichtewiki.wien.gv.at/?curid=2...   \n",
       "3932  https://www.geschichtewiki.wien.gv.at/?curid=2...   \n",
       "3992  https://www.geschichtewiki.wien.gv.at/?curid=1...   \n",
       "7622  https://www.geschichtewiki.wien.gv.at/?curid=2...   \n",
       "7685  https://www.geschichtewiki.wien.gv.at/?curid=1...   \n",
       "9313  https://www.geschichtewiki.wien.gv.at/?curid=8453   \n",
       "\n",
       "                              street OBJECTTYPE  \n",
       "3082                   Lindengasse 5       None  \n",
       "3225         Neustiftgasse 32 Obj. 3       None  \n",
       "3287            Urban-Loritz-Platz 7       None  \n",
       "3614  Lerchenfelder Straße 1-3 Hotel       None  \n",
       "3803                    Weghuberpark       None  \n",
       "3932         Museumsplatz TIEFGARAGE       None  \n",
       "3992            Urban-Loritz-Platz 7       None  \n",
       "7622       Arthur-Schnitzler-Platz 1       None  \n",
       "7685              Neubaugürtel 14-16       None  \n",
       "9313                  Zollergasse 14       None  "
      ]
     },
     "execution_count": 89,
     "metadata": {},
     "output_type": "execute_result"
    }
   ],
   "source": [
    "df_filtered[df_filtered['OBJECTTYPE'].isna()]"
   ]
  },
  {
   "cell_type": "code",
   "execution_count": 93,
   "metadata": {
    "cell_id": "ae6133b156fa43d3a8ddc668f6b45c27",
    "deepnote_cell_type": "code",
    "deepnote_to_be_reexecuted": false,
    "execution_millis": 28,
    "execution_start": 1650391301726,
    "source_hash": "6640af71",
    "tags": []
   },
   "outputs": [],
   "source": [
    "#creating a copy to get a d\n",
    "df_extended = df_filtered.copy()"
   ]
  },
  {
   "cell_type": "markdown",
   "metadata": {
    "cell_id": "062a9ca8fbf24014abbddfe4272215d1",
    "deepnote_cell_type": "markdown",
    "tags": []
   },
   "source": [
    "## Step 3: Cleaning the Data & Second Round of Analysis"
   ]
  },
  {
   "cell_type": "code",
   "execution_count": 96,
   "metadata": {
    "cell_id": "702cd4c7042544be9d52565961abd512",
    "deepnote_cell_type": "code",
    "deepnote_to_be_reexecuted": false,
    "execution_millis": 607,
    "execution_start": 1650391304177,
    "source_hash": "c8ca81d",
    "tags": []
   },
   "outputs": [],
   "source": [
    "%%capture\n",
    "row_counter = 0\n",
    "\n",
    "df_extended['TYPE'] = ''\n",
    "\n",
    "for i in df_extended.iterrows():\n",
    "    \n",
    "\n",
    "    if df_extended['type_of_organization'].iloc[row_counter] != '' and str(df_extended['type_of_organization'].iloc[row_counter]) != 'nan':\n",
    "        df_extended['TYPE'].iloc[row_counter] = df_extended['type_of_organization'].iloc[row_counter]\n",
    "    \n",
    "    else:\n",
    "\n",
    "        if df_extended['OBJECTTYPE'].iloc[row_counter] != '' and str(df_extended['OBJECTTYPE'].iloc[row_counter]) != 'nan':\n",
    "            df_extended['TYPE'].iloc[row_counter] = df_extended['OBJECTTYPE'].iloc[row_counter]\n",
    "        \n",
    "        else:\n",
    "            if str(df_extended['type_of_event'].iloc[row_counter]) != 'nan':\n",
    "                df_extended['TYPE'].iloc[row_counter] = df_extended['type_of_event'].iloc[row_counter]\n",
    "                df_extended['date_of_origin'].iloc[row_counter]  = int(str(df_extended['date_of_destruction'].iloc[row_counter])[:4])\n",
    "                df_extended['date_of_destruction'].iloc[row_counter]  = 0\n",
    "            \n",
    "            else:\n",
    "                df_extended['TYPE'].iloc[row_counter] = df_extended['category_txt'].iloc[row_counter]\n",
    "                print(df_extended['category_txt'].iloc[row_counter])\n",
    "\n",
    "    #print(str(df_extended['TYPE'].iloc[row_counter]).lower())\n",
    "    if  str(df_extended['TYPE'].iloc[row_counter]).lower() == 'sonstiges':\n",
    "\n",
    "        object_type = df_extended['page_name'].iloc[row_counter]\n",
    "        df_extended['TYPE'].iloc[row_counter] = object_type[object_type.find('('):object_type.find(')')][1:].replace('7,', '')\n",
    "    \n",
    "    if  str(df_extended['TYPE'].iloc[row_counter]).lower() == 'bauwerke':\n",
    "        print('yes')\n",
    "        df_extended['TYPE'].iloc[row_counter] = 'Denkmal'\n",
    "        \n",
    "    row_counter +=1"
   ]
  },
  {
   "cell_type": "code",
   "execution_count": 198,
   "metadata": {
    "cell_id": "cbde246d151a460c8b544435fabde4c3",
    "deepnote_cell_type": "code",
    "deepnote_to_be_reexecuted": false,
    "execution_millis": 866,
    "execution_start": 1650391304808,
    "source_hash": "d1ccb313",
    "tags": []
   },
   "outputs": [
    {
     "data": {
      "image/png": "[encoded data removed]",
      "text/plain": [
       "<Figure size 1680x360 with 1 Axes>"
      ]
     },
     "metadata": {
      "needs_background": "light"
     },
     "output_type": "display_data"
    }
   ],
   "source": [
    "visualize_missing_values(df_extended)"
   ]
  },
  {
   "cell_type": "code",
   "execution_count": 100,
   "metadata": {
    "cell_id": "4189aa8850f64ca7b3a8b6fd6d5b3b8f",
    "deepnote_cell_type": "code",
    "deepnote_to_be_reexecuted": false,
    "execution_millis": 628,
    "execution_start": 1650391305677,
    "source_hash": "217ac85b",
    "tags": []
   },
   "outputs": [
    {
     "data": {
      "text/plain": [
       "<AxesSubplot:>"
      ]
     },
     "execution_count": 100,
     "metadata": {},
     "output_type": "execute_result"
    },
    {
     "data": {
      "image/png": "[encoded data removed]",
      "text/plain": [
       "<Figure size 576x720 with 1 Axes>"
      ]
     },
     "metadata": {
      "needs_background": "light"
     },
     "output_type": "display_data"
    }
   ],
   "source": [
    "\n",
    "\n",
    "aggregated_df = df_extended[['page_name', 'TYPE', 'date_of_origin', 'date_of_destruction', \n",
    "                              'street', 'shape', 'weblink1']].copy()\n",
    "\n",
    "aggregated_df['date_of_origin'] = aggregated_df['date_of_origin'].fillna(0).astype('int64', errors='ignore')\n",
    "aggregated_df['date_of_destruction'] = aggregated_df['date_of_destruction'].fillna(0).astype('int64', errors='ignore')\n",
    "\n",
    "\n",
    "aggregated_df.loc[df_extended[\"page_name\"].str.contains(\"Volkstheater\", case=False), \"date_of_origin\"] = 1889\n",
    "aggregated_df.loc[df_extended[\"page_name\"].str.contains(\"Volkstheater\", case=False), \"TYPE\"] = \"theatre\"\n",
    "\n",
    "aggregated_df = aggregated_df.drop(aggregated_df[aggregated_df.date_of_origin == 0].index)\n",
    "\n",
    "\n",
    "aggregated_df.TYPE.value_counts().plot(kind='barh',figsize=(8,10))"
   ]
  },
  {
   "cell_type": "markdown",
   "metadata": {
    "cell_id": "abfd26446d87431880b0269737fdd430",
    "deepnote_cell_type": "markdown",
    "tags": []
   },
   "source": [
    "### Aggregate and Remove Object types"
   ]
  },
  {
   "cell_type": "code",
   "execution_count": 122,
   "metadata": {},
   "outputs": [],
   "source": [
    "\n",
    "aggregated_df.reset_index(inplace=True)\n",
    "aggregated_df.drop(\"index\", axis=1, inplace=True)\n",
    "\n",
    "#aggregating\n",
    "aggregated_df[\"TYPE\"].replace(\"^Sakrale_Freiplastik|Denkmal\", \"statue\", regex=True, inplace=True)\n",
    "aggregated_df[\"TYPE\"].replace(\"Katholische Kirche\", \"church\", regex=True, inplace=True)\n",
    "aggregated_df[\"TYPE\"].replace(\"^Spital|.*Apotheke.*\", \"health_institution\", regex=True, inplace=True)\n",
    "aggregated_df[\"TYPE\"].replace(\"^Sonstiges Bauwerk|Gebäude\", \"building\", regex=True, inplace=True)\n",
    "aggregated_df[\"TYPE\"].replace(\"^Institution|^Verein\", \"building\", regex=True, inplace=True)\n",
    "\n",
    "\n",
    "#translating\n",
    "aggregated_df[\"TYPE\"].replace(\"Kino\", \"cinema\", regex=True, inplace=True)\n",
    "aggregated_df[\"TYPE\"].replace(\"Kaffeehaus\", \"coffee_house\", regex=True, inplace=True)\n",
    "aggregated_df[\"TYPE\"].replace(\"^Grünfläche\", \"park\", regex=True, inplace=True)\n",
    "aggregated_df[\"TYPE\"].replace(\"^Schule\", \"school\", regex=True, inplace=True)\n",
    "aggregated_df[\"TYPE\"].replace(\"^NS-Institution\", \"NS_institution\", regex=True, inplace=True)\n",
    "aggregated_df[\"TYPE\"].replace(\"^Vorstadt\", \"settlement\", regex=True, inplace=True)\n",
    "aggregated_df[\"TYPE\"].replace(\"^Theater\", \"theatre\", regex=True, inplace=True)\n",
    "\n",
    "\n",
    "aggregated_df.replace(\"ä\", \"ae\", regex=True, inplace=True)\n",
    "aggregated_df.replace(\"ö\", \"oe\", regex=True, inplace=True)\n",
    "aggregated_df.replace(\"ü\", \"ue\", regex=True, inplace=True)\n",
    "aggregated_df.replace(\"è\", \"e\", regex=True, inplace=True)\n",
    "aggregated_df.replace(\"é\", \"e\", regex=True, inplace=True)\n",
    "aggregated_df.replace(\"á\", \"a\", regex=True, inplace=True)\n",
    "aggregated_df.replace(\"â\", \"a\", regex=True, inplace=True)\n",
    "aggregated_df.replace(\"à\", \"a\", regex=True, inplace=True)\n",
    "aggregated_df.replace(\"ß\", \"ss\", regex=True, inplace=True)\n",
    "\n",
    "#correcting values\n",
    "aggregated_df.loc[aggregated_df['page_name'].str.contains(\"cafe\", case=False), \"TYPE\"] = \"coffee_house\"\n",
    "aggregated_df.loc[aggregated_df['page_name'].str.contains(\"spital\", case=False), \"TYPE\"] = \"health_institution\"\n",
    "\n",
    "\n",
    "#removing\n",
    "aggregated_df[\"TYPE\"].replace('''^Verkehrsflaeche|^district|^Gruenfläche|^Politische Partei|^Behoerde|^Ort\n",
    "            |Insel|.*Topografi.*|^Ort|Bezirk|^Anstalt|^Sakralbau|Anschlag|Brunnen|^Verlag|^Firma''', \"unwanted\", regex=True, inplace=True)\n",
    "aggregated_df = aggregated_df[aggregated_df.TYPE != \"unwanted\"].copy()\n",
    "\n",
    "\n",
    "\n",
    "\n",
    "\n",
    "aggregated_df.loc[(aggregated_df['page_name'].str.contains(\"hof\", case=False)) &\n",
    "                  (aggregated_df['date_of_origin']<1700), \"TYPE\"] = \"farm\""
   ]
  },
  {
   "cell_type": "code",
   "execution_count": 123,
   "metadata": {},
   "outputs": [
    {
     "data": {
      "text/html": [
       "<div>\n",
       "<style scoped>\n",
       "    .dataframe tbody tr th:only-of-type {\n",
       "        vertical-align: middle;\n",
       "    }\n",
       "\n",
       "    .dataframe tbody tr th {\n",
       "        vertical-align: top;\n",
       "    }\n",
       "\n",
       "    .dataframe thead th {\n",
       "        text-align: right;\n",
       "    }\n",
       "</style>\n",
       "<table border=\"1\" class=\"dataframe\">\n",
       "  <thead>\n",
       "    <tr style=\"text-align: right;\">\n",
       "      <th></th>\n",
       "      <th>page_name</th>\n",
       "      <th>TYPE</th>\n",
       "      <th>date_of_origin</th>\n",
       "      <th>date_of_destruction</th>\n",
       "      <th>street</th>\n",
       "      <th>shape</th>\n",
       "      <th>weblink1</th>\n",
       "      <th>LONG</th>\n",
       "      <th>LAT</th>\n",
       "    </tr>\n",
       "  </thead>\n",
       "  <tbody>\n",
       "    <tr>\n",
       "      <th>49</th>\n",
       "      <td>Berchtesgadner Hof</td>\n",
       "      <td>farm</td>\n",
       "      <td>1333</td>\n",
       "      <td>1529</td>\n",
       "      <td>Burggasse 22</td>\n",
       "      <td>POINT (16.352930991859658 48.20440306441252)</td>\n",
       "      <td>https://www.geschichtewiki.wien.gv.at/?curid=3...</td>\n",
       "      <td>16.352931</td>\n",
       "      <td>48.204403</td>\n",
       "    </tr>\n",
       "    <tr>\n",
       "      <th>60</th>\n",
       "      <td>Oberhof</td>\n",
       "      <td>farm</td>\n",
       "      <td>1629</td>\n",
       "      <td>1788</td>\n",
       "      <td>Neustiftgasse 30</td>\n",
       "      <td>POINT (16.35165044544807 48.20558045755067)</td>\n",
       "      <td>https://www.geschichtewiki.wien.gv.at/?curid=2...</td>\n",
       "      <td>16.351650</td>\n",
       "      <td>48.205580</td>\n",
       "    </tr>\n",
       "    <tr>\n",
       "      <th>73</th>\n",
       "      <td>Schottenhof (7, Neustiftgasse 30-36)</td>\n",
       "      <td>farm</td>\n",
       "      <td>1629</td>\n",
       "      <td>1788</td>\n",
       "      <td>Neustiftgasse 30</td>\n",
       "      <td>POINT (16.351678276390583 48.20551992939218)</td>\n",
       "      <td>https://www.geschichtewiki.wien.gv.at/?curid=1...</td>\n",
       "      <td>16.351678</td>\n",
       "      <td>48.205520</td>\n",
       "    </tr>\n",
       "    <tr>\n",
       "      <th>78</th>\n",
       "      <td>Neudeggerhof</td>\n",
       "      <td>farm</td>\n",
       "      <td>1376</td>\n",
       "      <td>1770</td>\n",
       "      <td>Lerchenfelder Strasse 25</td>\n",
       "      <td>POINT (16.351909225942467 48.206229823002204)</td>\n",
       "      <td>https://www.geschichtewiki.wien.gv.at/?curid=1...</td>\n",
       "      <td>16.351909</td>\n",
       "      <td>48.206230</td>\n",
       "    </tr>\n",
       "  </tbody>\n",
       "</table>\n",
       "</div>"
      ],
      "text/plain": [
       "                               page_name  TYPE  date_of_origin  \\\n",
       "49                    Berchtesgadner Hof  farm            1333   \n",
       "60                               Oberhof  farm            1629   \n",
       "73  Schottenhof (7, Neustiftgasse 30-36)  farm            1629   \n",
       "78                          Neudeggerhof  farm            1376   \n",
       "\n",
       "    date_of_destruction                    street  \\\n",
       "49                 1529              Burggasse 22   \n",
       "60                 1788          Neustiftgasse 30   \n",
       "73                 1788          Neustiftgasse 30   \n",
       "78                 1770  Lerchenfelder Strasse 25   \n",
       "\n",
       "                                            shape  \\\n",
       "49   POINT (16.352930991859658 48.20440306441252)   \n",
       "60    POINT (16.35165044544807 48.20558045755067)   \n",
       "73   POINT (16.351678276390583 48.20551992939218)   \n",
       "78  POINT (16.351909225942467 48.206229823002204)   \n",
       "\n",
       "                                             weblink1       LONG        LAT  \n",
       "49  https://www.geschichtewiki.wien.gv.at/?curid=3...  16.352931  48.204403  \n",
       "60  https://www.geschichtewiki.wien.gv.at/?curid=2...  16.351650  48.205580  \n",
       "73  https://www.geschichtewiki.wien.gv.at/?curid=1...  16.351678  48.205520  \n",
       "78  https://www.geschichtewiki.wien.gv.at/?curid=1...  16.351909  48.206230  "
      ]
     },
     "execution_count": 123,
     "metadata": {},
     "output_type": "execute_result"
    }
   ],
   "source": [
    "# https://www.geschichtewiki.wien.gv.at/Neudeggerhof\n",
    "aggregated_df.loc[aggregated_df[\"page_name\"] == \"Neudeggerhof\", \"date_of_destruction\"] = 1770\n",
    "\n",
    "aggregated_df.loc[(aggregated_df['page_name'].str.contains(\"hof\", case=False)) & (aggregated_df['date_of_origin']<1700)]"
   ]
  },
  {
   "cell_type": "code",
   "execution_count": 124,
   "metadata": {},
   "outputs": [
    {
     "data": {
      "text/html": [
       "<div>\n",
       "<style scoped>\n",
       "    .dataframe tbody tr th:only-of-type {\n",
       "        vertical-align: middle;\n",
       "    }\n",
       "\n",
       "    .dataframe tbody tr th {\n",
       "        vertical-align: top;\n",
       "    }\n",
       "\n",
       "    .dataframe thead th {\n",
       "        text-align: right;\n",
       "    }\n",
       "</style>\n",
       "<table border=\"1\" class=\"dataframe\">\n",
       "  <thead>\n",
       "    <tr style=\"text-align: right;\">\n",
       "      <th></th>\n",
       "      <th>page_name</th>\n",
       "      <th>TYPE</th>\n",
       "      <th>date_of_origin</th>\n",
       "      <th>date_of_destruction</th>\n",
       "      <th>street</th>\n",
       "      <th>shape</th>\n",
       "      <th>weblink1</th>\n",
       "      <th>LONG</th>\n",
       "      <th>LAT</th>\n",
       "    </tr>\n",
       "  </thead>\n",
       "  <tbody>\n",
       "    <tr>\n",
       "      <th>61</th>\n",
       "      <td>Theater der Jugend</td>\n",
       "      <td>theatre</td>\n",
       "      <td>1932</td>\n",
       "      <td>0</td>\n",
       "      <td>Neubaugasse 36/1</td>\n",
       "      <td>POINT (16.3494000247669 48.20136633307758)</td>\n",
       "      <td>https://www.geschichtewiki.wien.gv.at/?curid=2...</td>\n",
       "      <td>16.349400</td>\n",
       "      <td>48.201366</td>\n",
       "    </tr>\n",
       "    <tr>\n",
       "      <th>76</th>\n",
       "      <td>Renaissancetheater</td>\n",
       "      <td>theatre</td>\n",
       "      <td>1912</td>\n",
       "      <td>0</td>\n",
       "      <td>Neubaugasse 36/1</td>\n",
       "      <td>POINT (16.3494000247669 48.20136633307758)</td>\n",
       "      <td>https://www.geschichtewiki.wien.gv.at/?curid=2...</td>\n",
       "      <td>16.349400</td>\n",
       "      <td>48.201366</td>\n",
       "    </tr>\n",
       "    <tr>\n",
       "      <th>99</th>\n",
       "      <td>Volkstheater</td>\n",
       "      <td>theatre</td>\n",
       "      <td>1889</td>\n",
       "      <td>0</td>\n",
       "      <td>Arthur-Schnitzler-Platz 1</td>\n",
       "      <td>POINT (16.357053732725316 48.20523201309908)</td>\n",
       "      <td>https://www.geschichtewiki.wien.gv.at/?curid=6125</td>\n",
       "      <td>16.357054</td>\n",
       "      <td>48.205232</td>\n",
       "    </tr>\n",
       "    <tr>\n",
       "      <th>121</th>\n",
       "      <td>Biographen Theater Weingaertner</td>\n",
       "      <td>cinema</td>\n",
       "      <td>1907</td>\n",
       "      <td>1909</td>\n",
       "      <td>Mariahilfer Strasse 8</td>\n",
       "      <td>POINT (16.359713396007376 48.20144292132249)</td>\n",
       "      <td>https://www.geschichtewiki.wien.gv.at/?curid=5...</td>\n",
       "      <td>16.359713</td>\n",
       "      <td>48.201443</td>\n",
       "    </tr>\n",
       "    <tr>\n",
       "      <th>122</th>\n",
       "      <td>Hackers Biographen Theater</td>\n",
       "      <td>cinema</td>\n",
       "      <td>1909</td>\n",
       "      <td>1917</td>\n",
       "      <td>Neubaugasse 4</td>\n",
       "      <td>POINT (16.349995792875152 48.198689876695106)</td>\n",
       "      <td>https://www.geschichtewiki.wien.gv.at/?curid=5...</td>\n",
       "      <td>16.349996</td>\n",
       "      <td>48.198690</td>\n",
       "    </tr>\n",
       "    <tr>\n",
       "      <th>124</th>\n",
       "      <td>Kinematographentheater (Neubau)</td>\n",
       "      <td>cinema</td>\n",
       "      <td>1909</td>\n",
       "      <td>1910</td>\n",
       "      <td>Kirchengasse 43</td>\n",
       "      <td>POINT (16.351401399374048 48.20507003547661)</td>\n",
       "      <td>https://www.geschichtewiki.wien.gv.at/?curid=5...</td>\n",
       "      <td>16.351401</td>\n",
       "      <td>48.205070</td>\n",
       "    </tr>\n",
       "  </tbody>\n",
       "</table>\n",
       "</div>"
      ],
      "text/plain": [
       "                           page_name     TYPE  date_of_origin  \\\n",
       "61                Theater der Jugend  theatre            1932   \n",
       "76                Renaissancetheater  theatre            1912   \n",
       "99                      Volkstheater  theatre            1889   \n",
       "121  Biographen Theater Weingaertner   cinema            1907   \n",
       "122       Hackers Biographen Theater   cinema            1909   \n",
       "124  Kinematographentheater (Neubau)   cinema            1909   \n",
       "\n",
       "     date_of_destruction                     street  \\\n",
       "61                     0           Neubaugasse 36/1   \n",
       "76                     0           Neubaugasse 36/1   \n",
       "99                     0  Arthur-Schnitzler-Platz 1   \n",
       "121                 1909      Mariahilfer Strasse 8   \n",
       "122                 1917              Neubaugasse 4   \n",
       "124                 1910            Kirchengasse 43   \n",
       "\n",
       "                                             shape  \\\n",
       "61      POINT (16.3494000247669 48.20136633307758)   \n",
       "76      POINT (16.3494000247669 48.20136633307758)   \n",
       "99    POINT (16.357053732725316 48.20523201309908)   \n",
       "121   POINT (16.359713396007376 48.20144292132249)   \n",
       "122  POINT (16.349995792875152 48.198689876695106)   \n",
       "124   POINT (16.351401399374048 48.20507003547661)   \n",
       "\n",
       "                                              weblink1       LONG        LAT  \n",
       "61   https://www.geschichtewiki.wien.gv.at/?curid=2...  16.349400  48.201366  \n",
       "76   https://www.geschichtewiki.wien.gv.at/?curid=2...  16.349400  48.201366  \n",
       "99   https://www.geschichtewiki.wien.gv.at/?curid=6125  16.357054  48.205232  \n",
       "121  https://www.geschichtewiki.wien.gv.at/?curid=5...  16.359713  48.201443  \n",
       "122  https://www.geschichtewiki.wien.gv.at/?curid=5...  16.349996  48.198690  \n",
       "124  https://www.geschichtewiki.wien.gv.at/?curid=5...  16.351401  48.205070  "
      ]
     },
     "execution_count": 124,
     "metadata": {},
     "output_type": "execute_result"
    }
   ],
   "source": [
    "aggregated_df.loc[(aggregated_df['page_name'].str.contains(\"theater\", case=False))]"
   ]
  },
  {
   "cell_type": "code",
   "execution_count": 125,
   "metadata": {
    "cell_id": "14106f2fc84c42aa9b1388d032bfd562",
    "deepnote_cell_type": "code",
    "deepnote_to_be_reexecuted": false,
    "execution_millis": 572,
    "execution_start": 1650391307368,
    "source_hash": "63a94e52",
    "tags": []
   },
   "outputs": [],
   "source": [
    "aggregated_df['LONG'] = aggregated_df['shape'].str.extract(r'POINT \\((\\d+\\.\\d+)').astype(float)\n",
    "aggregated_df['LAT'] = aggregated_df['shape'].str.extract(r'(\\d+\\.\\d+)\\)').astype(float)\n"
   ]
  },
  {
   "cell_type": "code",
   "execution_count": 126,
   "metadata": {},
   "outputs": [
    {
     "data": {
      "text/plain": [
       "<AxesSubplot:>"
      ]
     },
     "execution_count": 126,
     "metadata": {},
     "output_type": "execute_result"
    },
    {
     "data": {
      "image/png": "[encoded data removed]",
      "text/plain": [
       "<Figure size 576x720 with 1 Axes>"
      ]
     },
     "metadata": {
      "needs_background": "light"
     },
     "output_type": "display_data"
    }
   ],
   "source": [
    "aggregated_df.TYPE.value_counts().plot(kind='barh',figsize=(8,10))"
   ]
  },
  {
   "cell_type": "code",
   "execution_count": 127,
   "metadata": {},
   "outputs": [
    {
     "data": {
      "text/plain": [
       "building              85\n",
       "cinema                24\n",
       "NS_institution        15\n",
       "school                10\n",
       "statue                 9\n",
       "park                   7\n",
       "church                 7\n",
       "health_institution     6\n",
       "settlement             5\n",
       "farm                   4\n",
       "coffee_house           3\n",
       "theatre                3\n",
       "Name: TYPE, dtype: int64"
      ]
     },
     "execution_count": 127,
     "metadata": {},
     "output_type": "execute_result"
    }
   ],
   "source": [
    "aggregated_df.TYPE.value_counts()"
   ]
  },
  {
   "cell_type": "code",
   "execution_count": 128,
   "metadata": {
    "cell_id": "5ed95cb915524b67805768bbe8d80816",
    "deepnote_cell_type": "code",
    "deepnote_to_be_reexecuted": false,
    "execution_millis": 27497089,
    "execution_start": 1650391308743,
    "source_hash": "1c8b79d1",
    "tags": []
   },
   "outputs": [],
   "source": [
    "aggregated_df.to_csv(\"../data/district_data.csv\", sep =\";\", index_label=False)"
   ]
  },
  {
   "cell_type": "code",
   "execution_count": 113,
   "metadata": {
    "cell_id": "b911d7cf4c2a4b48882f5b4238c348f0",
    "deepnote_cell_type": "code",
    "deepnote_to_be_reexecuted": false,
    "execution_millis": 0,
    "execution_start": 1650391308699,
    "source_hash": "cea0a5dc",
    "tags": []
   },
   "outputs": [],
   "source": [
    "aggregated_df= pd.read_csv(\"../data/district_data.csv\", sep=\";\")"
   ]
  },
  {
   "cell_type": "code",
   "execution_count": 114,
   "metadata": {
    "scrolled": true
   },
   "outputs": [
    {
     "data": {
      "text/html": [
       "<style type=\"text/css\">\n",
       "</style>\n",
       "<table id=\"T_b392c_\">\n",
       "  <thead>\n",
       "    <tr>\n",
       "      <th class=\"blank level0\" >&nbsp;</th>\n",
       "      <th class=\"col_heading level0 col0\" >page_name</th>\n",
       "      <th class=\"col_heading level0 col1\" >TYPE</th>\n",
       "      <th class=\"col_heading level0 col2\" >date_of_origin</th>\n",
       "      <th class=\"col_heading level0 col3\" >date_of_destruction</th>\n",
       "      <th class=\"col_heading level0 col4\" >street</th>\n",
       "      <th class=\"col_heading level0 col5\" >shape</th>\n",
       "      <th class=\"col_heading level0 col6\" >weblink1</th>\n",
       "      <th class=\"col_heading level0 col7\" >LONG</th>\n",
       "      <th class=\"col_heading level0 col8\" >LAT</th>\n",
       "    </tr>\n",
       "  </thead>\n",
       "  <tbody>\n",
       "    <tr>\n",
       "      <th id=\"T_b392c_level0_row0\" class=\"row_heading level0 row0\" >1</th>\n",
       "      <td id=\"T_b392c_row0_col0\" class=\"data row0 col0\" >Johannes-Nepomuk-Statue (7, Ulrichsplatz)</td>\n",
       "      <td id=\"T_b392c_row0_col1\" class=\"data row0 col1\" >statue</td>\n",
       "      <td id=\"T_b392c_row0_col2\" class=\"data row0 col2\" >1750</td>\n",
       "      <td id=\"T_b392c_row0_col3\" class=\"data row0 col3\" >0</td>\n",
       "      <td id=\"T_b392c_row0_col4\" class=\"data row0 col4\" >St.-Ulrichs-Platz 3(PFARRE)</td>\n",
       "      <td id=\"T_b392c_row0_col5\" class=\"data row0 col5\" >POINT (16.352570150538384 48.20476086708961)</td>\n",
       "      <td id=\"T_b392c_row0_col6\" class=\"data row0 col6\" >https://www.geschichtewiki.wien.gv.at/?curid=19686</td>\n",
       "      <td id=\"T_b392c_row0_col7\" class=\"data row0 col7\" >16.352570</td>\n",
       "      <td id=\"T_b392c_row0_col8\" class=\"data row0 col8\" >48.204761</td>\n",
       "    </tr>\n",
       "    <tr>\n",
       "      <th id=\"T_b392c_level0_row1\" class=\"row_heading level0 row1\" >33</th>\n",
       "      <td id=\"T_b392c_row1_col0\" class=\"data row1 col0\" >Urban-Loritz-Denkmal</td>\n",
       "      <td id=\"T_b392c_row1_col1\" class=\"data row1 col1\" >statue</td>\n",
       "      <td id=\"T_b392c_row1_col2\" class=\"data row1 col2\" >1901</td>\n",
       "      <td id=\"T_b392c_row1_col3\" class=\"data row1 col3\" >0</td>\n",
       "      <td id=\"T_b392c_row1_col4\" class=\"data row1 col4\" >Urban-Loritz-Platz 7</td>\n",
       "      <td id=\"T_b392c_row1_col5\" class=\"data row1 col5\" >POINT (16.33859401530327 48.20148204091174)</td>\n",
       "      <td id=\"T_b392c_row1_col6\" class=\"data row1 col6\" >https://www.geschichtewiki.wien.gv.at/?curid=2317</td>\n",
       "      <td id=\"T_b392c_row1_col7\" class=\"data row1 col7\" >16.338594</td>\n",
       "      <td id=\"T_b392c_row1_col8\" class=\"data row1 col8\" >48.201482</td>\n",
       "    </tr>\n",
       "    <tr>\n",
       "      <th id=\"T_b392c_level0_row2\" class=\"row_heading level0 row2\" >42</th>\n",
       "      <td id=\"T_b392c_row2_col0\" class=\"data row2 col0\" >Wildgansdenkmal (7)</td>\n",
       "      <td id=\"T_b392c_row2_col1\" class=\"data row2 col1\" >statue</td>\n",
       "      <td id=\"T_b392c_row2_col2\" class=\"data row2 col2\" >1982</td>\n",
       "      <td id=\"T_b392c_row2_col3\" class=\"data row2 col3\" >0</td>\n",
       "      <td id=\"T_b392c_row2_col4\" class=\"data row2 col4\" >Lerchenfelder Strasse 1-3 Hotel</td>\n",
       "      <td id=\"T_b392c_row2_col5\" class=\"data row2 col5\" >POINT (16.35484401537997 48.20663604103296)</td>\n",
       "      <td id=\"T_b392c_row2_col6\" class=\"data row2 col6\" >https://www.geschichtewiki.wien.gv.at/?curid=11338</td>\n",
       "      <td id=\"T_b392c_row2_col7\" class=\"data row2 col7\" >16.354844</td>\n",
       "      <td id=\"T_b392c_row2_col8\" class=\"data row2 col8\" >48.206636</td>\n",
       "    </tr>\n",
       "    <tr>\n",
       "      <th id=\"T_b392c_level0_row3\" class=\"row_heading level0 row3\" >46</th>\n",
       "      <td id=\"T_b392c_row3_col0\" class=\"data row3 col0\" >Raimunddenkmal</td>\n",
       "      <td id=\"T_b392c_row3_col1\" class=\"data row3 col1\" >statue</td>\n",
       "      <td id=\"T_b392c_row3_col2\" class=\"data row3 col2\" >1898</td>\n",
       "      <td id=\"T_b392c_row3_col3\" class=\"data row3 col3\" >0</td>\n",
       "      <td id=\"T_b392c_row3_col4\" class=\"data row3 col4\" >Weghuberpark</td>\n",
       "      <td id=\"T_b392c_row3_col5\" class=\"data row3 col5\" >POINT (16.35685601554536 48.205680040981925)</td>\n",
       "      <td id=\"T_b392c_row3_col6\" class=\"data row3 col6\" >https://www.geschichtewiki.wien.gv.at/?curid=21798</td>\n",
       "      <td id=\"T_b392c_row3_col7\" class=\"data row3 col7\" >16.356856</td>\n",
       "      <td id=\"T_b392c_row3_col8\" class=\"data row3 col8\" >48.205680</td>\n",
       "    </tr>\n",
       "    <tr>\n",
       "      <th id=\"T_b392c_level0_row4\" class=\"row_heading level0 row4\" >51</th>\n",
       "      <td id=\"T_b392c_row4_col0\" class=\"data row4 col0\" >Rossebaendiger (1, Maria-Theresien-Platz)</td>\n",
       "      <td id=\"T_b392c_row4_col1\" class=\"data row4 col1\" >statue</td>\n",
       "      <td id=\"T_b392c_row4_col2\" class=\"data row4 col2\" >1892</td>\n",
       "      <td id=\"T_b392c_row4_col3\" class=\"data row4 col3\" >0</td>\n",
       "      <td id=\"T_b392c_row4_col4\" class=\"data row4 col4\" >Museumsplatz TIEFGARAGE</td>\n",
       "      <td id=\"T_b392c_row4_col5\" class=\"data row4 col5\" >POINT (16.359936015897887 48.204105041053744)</td>\n",
       "      <td id=\"T_b392c_row4_col6\" class=\"data row4 col6\" >https://www.geschichtewiki.wien.gv.at/?curid=28783</td>\n",
       "      <td id=\"T_b392c_row4_col7\" class=\"data row4 col7\" >16.359936</td>\n",
       "      <td id=\"T_b392c_row4_col8\" class=\"data row4 col8\" >48.204105</td>\n",
       "    </tr>\n",
       "    <tr>\n",
       "      <th id=\"T_b392c_level0_row5\" class=\"row_heading level0 row5\" >52</th>\n",
       "      <td id=\"T_b392c_row5_col0\" class=\"data row5 col0\" >Loritzdenkmal</td>\n",
       "      <td id=\"T_b392c_row5_col1\" class=\"data row5 col1\" >statue</td>\n",
       "      <td id=\"T_b392c_row5_col2\" class=\"data row5 col2\" >1901</td>\n",
       "      <td id=\"T_b392c_row5_col3\" class=\"data row5 col3\" >0</td>\n",
       "      <td id=\"T_b392c_row5_col4\" class=\"data row5 col4\" >Urban-Loritz-Platz 7</td>\n",
       "      <td id=\"T_b392c_row5_col5\" class=\"data row5 col5\" >POINT (16.338590015727075 48.20148004090285)</td>\n",
       "      <td id=\"T_b392c_row5_col6\" class=\"data row5 col6\" >https://www.geschichtewiki.wien.gv.at/?curid=18627</td>\n",
       "      <td id=\"T_b392c_row5_col7\" class=\"data row5 col7\" >16.338590</td>\n",
       "      <td id=\"T_b392c_row5_col8\" class=\"data row5 col8\" >48.201480</td>\n",
       "    </tr>\n",
       "    <tr>\n",
       "      <th id=\"T_b392c_level0_row6\" class=\"row_heading level0 row6\" >106</th>\n",
       "      <td id=\"T_b392c_row6_col0\" class=\"data row6 col0\" >Hansi-Niese-Denkmal</td>\n",
       "      <td id=\"T_b392c_row6_col1\" class=\"data row6 col1\" >statue</td>\n",
       "      <td id=\"T_b392c_row6_col2\" class=\"data row6 col2\" >1952</td>\n",
       "      <td id=\"T_b392c_row6_col3\" class=\"data row6 col3\" >0</td>\n",
       "      <td id=\"T_b392c_row6_col4\" class=\"data row6 col4\" >Arthur-Schnitzler-Platz 1</td>\n",
       "      <td id=\"T_b392c_row6_col5\" class=\"data row6 col5\" >POINT (16.357103015699547 48.20495404062671)</td>\n",
       "      <td id=\"T_b392c_row6_col6\" class=\"data row6 col6\" >https://www.geschichtewiki.wien.gv.at/?curid=20576</td>\n",
       "      <td id=\"T_b392c_row6_col7\" class=\"data row6 col7\" >16.357103</td>\n",
       "      <td id=\"T_b392c_row6_col8\" class=\"data row6 col8\" >48.204954</td>\n",
       "    </tr>\n",
       "    <tr>\n",
       "      <th id=\"T_b392c_level0_row7\" class=\"row_heading level0 row7\" >108</th>\n",
       "      <td id=\"T_b392c_row7_col0\" class=\"data row7 col0\" >Hesserdenkmal</td>\n",
       "      <td id=\"T_b392c_row7_col1\" class=\"data row7 col1\" >statue</td>\n",
       "      <td id=\"T_b392c_row7_col2\" class=\"data row7 col2\" >1909</td>\n",
       "      <td id=\"T_b392c_row7_col3\" class=\"data row7 col3\" >0</td>\n",
       "      <td id=\"T_b392c_row7_col4\" class=\"data row7 col4\" >Neubauguertel 14-16</td>\n",
       "      <td id=\"T_b392c_row7_col5\" class=\"data row7 col5\" >POINT (16.338555016237578 48.19854904094482)</td>\n",
       "      <td id=\"T_b392c_row7_col6\" class=\"data row7 col6\" >https://www.geschichtewiki.wien.gv.at/?curid=12938</td>\n",
       "      <td id=\"T_b392c_row7_col7\" class=\"data row7 col7\" >16.338555</td>\n",
       "      <td id=\"T_b392c_row7_col8\" class=\"data row7 col8\" >48.198549</td>\n",
       "    </tr>\n",
       "    <tr>\n",
       "      <th id=\"T_b392c_level0_row8\" class=\"row_heading level0 row8\" >121</th>\n",
       "      <td id=\"T_b392c_row8_col0\" class=\"data row8 col0\" >Dreifaltigkeitssaeule (7, St.-Ulrichs-Platz)</td>\n",
       "      <td id=\"T_b392c_row8_col1\" class=\"data row8 col1\" >statue</td>\n",
       "      <td id=\"T_b392c_row8_col2\" class=\"data row8 col2\" >1713</td>\n",
       "      <td id=\"T_b392c_row8_col3\" class=\"data row8 col3\" >0</td>\n",
       "      <td id=\"T_b392c_row8_col4\" class=\"data row8 col4\" >Burggasse 33</td>\n",
       "      <td id=\"T_b392c_row8_col5\" class=\"data row8 col5\" >POINT (16.352529016002688 48.20433404098209)</td>\n",
       "      <td id=\"T_b392c_row8_col6\" class=\"data row8 col6\" >https://www.geschichtewiki.wien.gv.at/?curid=9592</td>\n",
       "      <td id=\"T_b392c_row8_col7\" class=\"data row8 col7\" >16.352529</td>\n",
       "      <td id=\"T_b392c_row8_col8\" class=\"data row8 col8\" >48.204334</td>\n",
       "    </tr>\n",
       "  </tbody>\n",
       "</table>\n"
      ],
      "text/plain": [
       "<pandas.io.formats.style.Styler at 0x24c5826c9d0>"
      ]
     },
     "execution_count": 114,
     "metadata": {},
     "output_type": "execute_result"
    }
   ],
   "source": [
    "aggregated_df[aggregated_df[\"TYPE\"] == \"statue\"].style"
   ]
  },
  {
   "cell_type": "markdown",
   "metadata": {
    "cell_id": "df0ccd8b910d458ca184da9539308fad",
    "deepnote_cell_type": "markdown",
    "tags": []
   },
   "source": [
    "## Analysis of Development over Time"
   ]
  },
  {
   "cell_type": "code",
   "execution_count": 116,
   "metadata": {},
   "outputs": [
    {
     "data": {
      "image/png": "[encoded data removed]",
      "text/plain": [
       "<Figure size 576x360 with 1 Axes>"
      ]
     },
     "metadata": {
      "needs_background": "light"
     },
     "output_type": "display_data"
    }
   ],
   "source": [
    "# Define the intervals\n",
    "intervals = [(year, year+101) for year in range(1200, 2000, 100) ]\n",
    "\n",
    "# Count the objects in each interval\n",
    "counts = []\n",
    "for interval in intervals:\n",
    "    count = ((aggregated_df['date_of_origin'] >= interval[0]) & (aggregated_df['date_of_origin'] < interval[1])).sum()\n",
    "    counts.append(count)\n",
    "\n",
    "# Create the bar plot\n",
    "plt.figure(figsize=(8, 5))\n",
    "plt.bar(range(len(intervals)), counts, align='center')\n",
    "plt.xticks(range(len(intervals)), [f\"{interval[0]}-{interval[1]-1}\" for interval in intervals], rotation=45)\n",
    "\n",
    "# Add grid and adjust layout\n",
    "plt.grid(axis=\"y\", linestyle=\"--\", alpha=0.7)\n",
    "plt.tight_layout()\n",
    "\n",
    "\n",
    "plt.xlabel('Time Interval')\n",
    "plt.ylabel('Number of Objects')\n",
    "plt.title('Number of Objects Built in 50-Year Intervals')\n",
    "plt.show()"
   ]
  },
  {
   "cell_type": "code",
   "execution_count": 117,
   "metadata": {},
   "outputs": [
    {
     "data": {
      "image/png": "[encoded data removed]",
      "text/plain": [
       "<Figure size 576x360 with 1 Axes>"
      ]
     },
     "metadata": {
      "needs_background": "light"
     },
     "output_type": "display_data"
    }
   ],
   "source": [
    "# Define the intervals\n",
    "intervals = [(year, year+101) for year in range(1200, 2000, 100) ]\n",
    "\n",
    "# Count the objects in each interval\n",
    "counts = []\n",
    "for interval in intervals:\n",
    "    count = ((aggregated_df['date_of_origin'] >= interval[0]) &\n",
    "             (aggregated_df['date_of_origin'] < interval[1]) & \n",
    "             (aggregated_df['TYPE'] == \"church\")).sum()\n",
    "    counts.append(count)\n",
    "\n",
    "# Create the bar plot\n",
    "plt.figure(figsize=(8, 5))\n",
    "plt.bar(range(len(intervals)), counts, align='center')\n",
    "plt.xticks(range(len(intervals)), [f\"{interval[0]}-{interval[1]-1}\" for interval in intervals], rotation=45)\n",
    "\n",
    "# Add grid and adjust layout\n",
    "plt.grid(axis=\"y\", linestyle=\"--\", alpha=0.7)\n",
    "plt.tight_layout()\n",
    "\n",
    "\n",
    "plt.xlabel('Time Interval')\n",
    "plt.ylabel('Number of Churches')\n",
    "plt.title('Number of Churches Built in 50-Year Intervals')\n",
    "plt.show()"
   ]
  },
  {
   "cell_type": "code",
   "execution_count": 118,
   "metadata": {
    "scrolled": true
   },
   "outputs": [
    {
     "data": {
      "image/png": "[encoded data removed]",
      "text/plain": [
       "<Figure size 576x360 with 1 Axes>"
      ]
     },
     "metadata": {
      "needs_background": "light"
     },
     "output_type": "display_data"
    }
   ],
   "source": [
    "# Define the intervals\n",
    "intervals = [(year, year+51) for year in range(1200, 2000, 50) ]\n",
    "\n",
    "# Count the objects in each interval\n",
    "counts = []\n",
    "for interval in intervals:\n",
    "    count = ((aggregated_df['date_of_origin'] >= interval[0]) &\n",
    "             (aggregated_df['date_of_origin'] < interval[1]) & \n",
    "             (aggregated_df['TYPE'] == \"cinema\")).sum()\n",
    "    counts.append(count)\n",
    "\n",
    "# Create the bar plot\n",
    "plt.figure(figsize=(8, 5))\n",
    "plt.bar(range(len(intervals)), counts, align='center')\n",
    "plt.xticks(range(len(intervals)), [f\"{interval[0]}-{interval[1]-1}\" for interval in intervals], rotation=45)\n",
    "\n",
    "# Add grid and adjust layout\n",
    "plt.grid(axis=\"y\", linestyle=\"--\", alpha=0.7)\n",
    "plt.tight_layout()\n",
    "\n",
    "\n",
    "plt.xlabel('Time Interval')\n",
    "plt.ylabel('Number of Cinemas')\n",
    "plt.title('Number of Cinemas Built in 50-Year Intervals')\n",
    "plt.show()"
   ]
  },
  {
   "cell_type": "markdown",
   "metadata": {
    "cell_id": "8cdb72f814ac40ac8b478e9f869182f5",
    "deepnote_cell_type": "markdown",
    "tags": []
   },
   "source": [
    "## Handle the coordinates file"
   ]
  },
  {
   "cell_type": "code",
   "execution_count": 36,
   "metadata": {
    "cell_id": "7382bb1a6b2c48b1b87fc883faab1972",
    "deepnote_cell_type": "code",
    "deepnote_to_be_reexecuted": false,
    "execution_millis": 23,
    "execution_start": 1650401620950,
    "source_hash": "83a68f15",
    "tags": []
   },
   "outputs": [],
   "source": [
    "coord_df = pd.read_csv(\"./data/districtSGRENZEOGD.csv\")"
   ]
  }
 ],
 "metadata": {
  "deepnote": {
   "is_reactive": false
  },
  "deepnote_execution_queue": [],
  "deepnote_notebook_id": "96a2e32bc30c4915bc616a744f4f2d36",
  "kernelspec": {
   "display_name": "Python 3",
   "language": "python",
   "name": "python3"
  },
  "language_info": {
   "codemirror_mode": {
    "name": "ipython",
    "version": 3
   },
   "file_extension": ".py",
   "mimetype": "text/x-python",
   "name": "python",
   "nbconvert_exporter": "python",
   "pygments_lexer": "ipython3",
   "version": "3.8.8"
  }
 },
 "nbformat": 4,
 "nbformat_minor": 1
}
